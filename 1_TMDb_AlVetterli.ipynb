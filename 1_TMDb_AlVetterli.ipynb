{
 "cells": [
  {
   "cell_type": "markdown",
   "metadata": {},
   "source": [
    "# NTDS'18 milestone 1: network collection and properties\n",
    "[Effrosyni Simou](https://lts4.epfl.ch/simou), [EPFL LTS4](https://lts4.epfl.ch)"
   ]
  },
  {
   "cell_type": "markdown",
   "metadata": {},
   "source": [
    "## Students\n",
    "\n",
    "* Team: `10`\n",
    "* Students: `Fluhr Hugo, Donzier Paul, Delagoums Frédéric, Cionca Alexandre`\n",
    "* Dataset: `IMDb, tmdb_5000_movies.csv`"
   ]
  },
  {
   "cell_type": "markdown",
   "metadata": {},
   "source": [
    "## Rules\n",
    "\n",
    "* Milestones have to be completed by teams. No collaboration between teams is allowed.\n",
    "* Textual answers shall be short. Typically one to three sentences.\n",
    "* Code has to be clean.\n",
    "* You cannot import any other library than we imported.\n",
    "* When submitting, the notebook is executed and the results are stored. I.e., if you open the notebook again it should show numerical results and plots. We won't be able to execute your notebooks.\n",
    "* The notebook is re-executed from a blank state before submission. That is to be sure it is reproducible. You can click \"Kernel\" then \"Restart & Run All\" in Jupyter."
   ]
  },
  {
   "cell_type": "markdown",
   "metadata": {},
   "source": [
    "## Objective "
   ]
  },
  {
   "cell_type": "markdown",
   "metadata": {},
   "source": [
    "The purpose of this milestone is to start getting acquainted to the network that you will use for this class. In the first part of the milestone you will import your data using [Pandas](http://pandas.pydata.org) and you will create the adjacency matrix using [Numpy](http://www.numpy.org). This part is project specific. In the second part you will have to compute some basic properties of your network. **For the computation of the properties you are only allowed to use the packages that have been imported in the cell below.** You are not allowed to use any graph-specific toolboxes for this milestone (such as networkx and PyGSP). Furthermore, the aim is not to blindly compute the network properties, but to also start to think about what kind of network you will be working with this semester. "
   ]
  },
  {
   "cell_type": "code",
   "execution_count": 76,
   "metadata": {},
   "outputs": [],
   "source": [
    "import numpy as np\n",
    "import pandas as pd\n",
    "import matplotlib.pyplot as plt\n",
    "import json"
   ]
  },
  {
   "cell_type": "markdown",
   "metadata": {},
   "source": [
    "## Part 1 - Import your data and manipulate them. "
   ]
  },
  {
   "cell_type": "markdown",
   "metadata": {},
   "source": [
    "###  A. Load your data in a Panda dataframe."
   ]
  },
  {
   "cell_type": "markdown",
   "metadata": {},
   "source": [
    "First, you should define and understand what are your nodes, what features you have and what are your labels. Please provide below a Panda dataframe where each row corresponds to a node with its features and labels. For example, in the the case of the Free Music Archive (FMA) Project, each row of the dataframe would be of the following form:\n",
    "\n",
    "\n",
    "| Track   |  Feature 1  | Feature 2 | . . . | Feature 518|  Label 1 |  Label 2 |. . .|Label 16|\n",
    "|:-------:|:-----------:|:---------:|:-----:|:----------:|:--------:|:--------:|:---:|:------:|\n",
    "|         |             |           |       |            |          |          |     |        |\n",
    "\n",
    "It is possible that in some of the projects either the features or the labels are not available. This is OK, in that case just make sure that you create a dataframe where each of the rows corresponds to a node and its associated features or labels."
   ]
  },
  {
   "cell_type": "code",
   "execution_count": 77,
   "metadata": {
    "scrolled": true
   },
   "outputs": [],
   "source": [
    "# DATA LOAD\n",
    "credits=pd.read_csv('../dataset/TMDb/tmdb_5000_credits.csv')\n",
    "movies=pd.read_csv('../dataset/TMDb/tmdb_5000_movies.csv')\n",
    "\n",
    "json_columns = ['cast', 'crew']\n",
    "for column in json_columns:\n",
    "     credits[column] = credits[column].apply(json.loads)\n",
    "#rawBasic"
   ]
  },
  {
   "cell_type": "code",
   "execution_count": 78,
   "metadata": {
    "scrolled": false
   },
   "outputs": [],
   "source": [
    "# DATA FILTERING\n",
    "\n",
    "joined=credits.join(movies, rsuffix='other')\n",
    "joined.columns\n",
    "joined=joined.drop(columns=['budget','overview','crew','popularity','genres','homepage','id','keywords','original_title','production_companies','production_countries','release_date','revenue','runtime','spoken_languages','tagline','titleother'])\n",
    "\n",
    "joined=joined[joined.status=='Released']\n",
    "joined=joined[joined.vote_count >=1500]\n",
    "joined=joined.drop(columns=['original_language','vote_average','vote_count','status'])\n",
    "joined=joined.reset_index(drop=True)\n",
    "#features = # the pandas dataframe with the features and labels"
   ]
  },
  {
   "cell_type": "code",
   "execution_count": 79,
   "metadata": {},
   "outputs": [
    {
     "name": "stderr",
     "output_type": "stream",
     "text": [
      "/Users/AlexCionca/miniconda3/envs/ntds_2018/lib/python3.7/site-packages/ipykernel_launcher.py:7: SettingWithCopyWarning: \n",
      "A value is trying to be set on a copy of a slice from a DataFrame\n",
      "\n",
      "See the caveats in the documentation: http://pandas.pydata.org/pandas-docs/stable/indexing.html#indexing-view-versus-copy\n",
      "  import sys\n"
     ]
    }
   ],
   "source": [
    "joined['actors_id']=\"\"\n",
    "\n",
    "for i in range(len(joined.title)):\n",
    "    strs=[]\n",
    "    for ii in range(len(joined.cast[i])):\n",
    "        strs.append(joined.cast[i][ii]['id'])\n",
    "    joined.actors_id[i]=np.asarray(strs)\n",
    "    \n",
    "#for idx, row in edges.iterrows():\n",
    " #   if np.isnan(row.node_idx_parent):\n",
    " #   continue\n",
    "  #   i, j = int(row.node_idx), int(row.node_idx_parent)\n",
    "   # adjacency[i, j] = 1\n",
    "   # adjacency[j, i] = 1\n"
   ]
  },
  {
   "cell_type": "code",
   "execution_count": 80,
   "metadata": {},
   "outputs": [],
   "source": [
    "#np.intersect1d(assume_unique = True) speeds up the calculation by assuming no duplicates in both arrays\n",
    "joined.head()\n",
    "movies=joined.loc[:,['movie_id','title','cast']]\n",
    "actors=joined.loc[:,['actors_id']]"
   ]
  },
  {
   "cell_type": "code",
   "execution_count": 81,
   "metadata": {},
   "outputs": [
    {
     "data": {
      "text/html": [
       "<div>\n",
       "<style scoped>\n",
       "    .dataframe tbody tr th:only-of-type {\n",
       "        vertical-align: middle;\n",
       "    }\n",
       "\n",
       "    .dataframe tbody tr th {\n",
       "        vertical-align: top;\n",
       "    }\n",
       "\n",
       "    .dataframe thead th {\n",
       "        text-align: right;\n",
       "    }\n",
       "</style>\n",
       "<table border=\"1\" class=\"dataframe\">\n",
       "  <thead>\n",
       "    <tr style=\"text-align: right;\">\n",
       "      <th></th>\n",
       "      <th>movie_idx</th>\n",
       "      <th>actors_id</th>\n",
       "    </tr>\n",
       "  </thead>\n",
       "  <tbody>\n",
       "    <tr>\n",
       "      <th>0</th>\n",
       "      <td>0</td>\n",
       "      <td>[65731, 8691, 10205, 32747, 17647, 1771, 59231...</td>\n",
       "    </tr>\n",
       "    <tr>\n",
       "      <th>1</th>\n",
       "      <td>1</td>\n",
       "      <td>[85, 114, 116, 1640, 1619, 2440, 118, 1709, 24...</td>\n",
       "    </tr>\n",
       "    <tr>\n",
       "      <th>2</th>\n",
       "      <td>2</td>\n",
       "      <td>[8784, 27319, 121529, 5469, 28782, 17064, 2038...</td>\n",
       "    </tr>\n",
       "    <tr>\n",
       "      <th>3</th>\n",
       "      <td>3</td>\n",
       "      <td>[3894, 3895, 64, 1813, 2524, 8293, 24045, 192,...</td>\n",
       "    </tr>\n",
       "    <tr>\n",
       "      <th>4</th>\n",
       "      <td>4</td>\n",
       "      <td>[60900, 21044, 2206, 5293, 19159, 2983, 8785, ...</td>\n",
       "    </tr>\n",
       "  </tbody>\n",
       "</table>\n",
       "</div>"
      ],
      "text/plain": [
       "   movie_idx                                          actors_id\n",
       "0          0  [65731, 8691, 10205, 32747, 17647, 1771, 59231...\n",
       "1          1  [85, 114, 116, 1640, 1619, 2440, 118, 1709, 24...\n",
       "2          2  [8784, 27319, 121529, 5469, 28782, 17064, 2038...\n",
       "3          3  [3894, 3895, 64, 1813, 2524, 8293, 24045, 192,...\n",
       "4          4  [60900, 21044, 2206, 5293, 19159, 2983, 8785, ..."
      ]
     },
     "execution_count": 81,
     "metadata": {},
     "output_type": "execute_result"
    }
   ],
   "source": [
    "actors.reset_index(level=0, inplace=True)\n",
    "actors = actors.rename(columns={'index':'movie_idx'})\n",
    "actors.head()"
   ]
  },
  {
   "cell_type": "code",
   "execution_count": 82,
   "metadata": {},
   "outputs": [],
   "source": [
    "n_nodes=len(actors.movie_idx)\n",
    "adj=np.zeros((n_nodes,n_nodes), dtype=int)"
   ]
  },
  {
   "cell_type": "code",
   "execution_count": 83,
   "metadata": {},
   "outputs": [],
   "source": [
    "for i in range(len(actors.movie_idx)):\n",
    "    for ii in range(i+1,(len(actors.movie_idx))):\n",
    "            adj[i,ii]=adj[ii][i]=len(np.intersect1d(actors.actors_id[i],actors.actors_id[ii]))"
   ]
  },
  {
   "cell_type": "code",
   "execution_count": 84,
   "metadata": {},
   "outputs": [
    {
     "data": {
      "text/plain": [
       "array([[ 0,  0,  0,  0,  0,  0,  0,  0,  0,  0,  0,  0,  0,  0,  0],\n",
       "       [ 0,  0,  1,  1,  0,  0,  0,  1,  0,  0,  0, 23,  1,  0,  0],\n",
       "       [ 0,  1,  0,  0,  0,  0,  0,  0,  0,  0,  4,  1,  0,  0,  0],\n",
       "       [ 0,  1,  0,  0,  0,  2,  0,  0,  0,  1,  0,  1,  0,  0,  1],\n",
       "       [ 0,  0,  0,  0,  0,  2,  0,  0,  0,  0,  0,  0,  0,  0,  0],\n",
       "       [ 0,  0,  0,  2,  2,  0,  0,  1,  0,  0,  0,  0,  0,  0,  0],\n",
       "       [ 0,  0,  0,  0,  0,  0,  0,  0,  0,  0,  0,  0,  0,  0,  0],\n",
       "       [ 0,  1,  0,  0,  0,  1,  0,  0,  0,  0,  0,  1,  1,  0,  0],\n",
       "       [ 0,  0,  0,  0,  0,  0,  0,  0,  0,  0,  1,  0,  1,  0,  1],\n",
       "       [ 0,  0,  0,  1,  0,  0,  0,  0,  0,  0,  0,  0,  0, 10,  0],\n",
       "       [ 0,  0,  4,  0,  0,  0,  0,  0,  1,  0,  0,  0,  1,  0,  0],\n",
       "       [ 0, 23,  1,  1,  0,  0,  0,  1,  0,  0,  0,  0,  1,  0,  0],\n",
       "       [ 0,  1,  0,  0,  0,  0,  0,  1,  1,  0,  1,  1,  0,  0,  0],\n",
       "       [ 0,  0,  0,  0,  0,  0,  0,  0,  0, 10,  0,  0,  0,  0,  0],\n",
       "       [ 0,  0,  0,  1,  0,  0,  0,  0,  1,  0,  0,  0,  0,  0,  0]])"
      ]
     },
     "execution_count": 84,
     "metadata": {},
     "output_type": "execute_result"
    }
   ],
   "source": [
    "adj[:15, :15]"
   ]
  },
  {
   "cell_type": "markdown",
   "metadata": {},
   "source": [
    "### B. Create the adjacency matrix of your network."
   ]
  },
  {
   "cell_type": "markdown",
   "metadata": {},
   "source": [
    "Remember that there are edges connecting the attributed nodes that you organized in the dataframe above. The connectivity of the network is captured by the adjacency matrix $W$. If $N$ is the number of nodes, the adjacency matrix is an $N \\times N$ matrix where the value of $W(i,j)$ is the weight of the edge connecting node $i$ to node $j$.  \n",
    "\n",
    "There are two possible scenarios for your adjacency matrix construction, as you already learned in the tutorial by Benjamin:\n",
    "\n",
    "1) The edges are given to you explicitly. In this case you should simply load the file containing the edge information and parse it in order to create your adjacency matrix. See how to do that in the  [graph from edge list]() demo.\n",
    "\n",
    "2) The edges are not given to you. In that case you will have to create a feature graph. In order to do that you will have to chose a distance that will quantify how similar two nodes are based on the values in their corresponding feature vectors. In the [graph from features]() demo Benjamin showed you how to build feature graphs when using Euclidean distances between feature vectors. Be curious and explore other distances as well! For instance, in the case of high-dimensional feature vectors, you might want to consider using the cosine distance. Once you compute the distances between your nodes you will have a fully connected network. Do not forget to sparsify by keeping the most important edges in your network.\n",
    "\n",
    "Follow the appropriate steps for the construction of the adjacency matrix of your network and provide it in the Numpy array ``adjacency`` below: "
   ]
  },
  {
   "cell_type": "code",
   "execution_count": 85,
   "metadata": {
    "scrolled": true
   },
   "outputs": [
    {
     "data": {
      "text/plain": [
       "array([[0.        , 0.        , 0.        , 0.        , 0.        ],\n",
       "       [0.        , 0.        , 0.02941176, 0.02941176, 0.        ],\n",
       "       [0.        , 0.02941176, 0.        , 0.        , 0.        ],\n",
       "       [0.        , 0.02941176, 0.        , 0.        , 0.        ],\n",
       "       [0.        , 0.        , 0.        , 0.        , 0.        ]])"
      ]
     },
     "execution_count": 85,
     "metadata": {},
     "output_type": "execute_result"
    }
   ],
   "source": [
    "# Your code here\n",
    "adjacency=np.zeros((n_nodes,n_nodes), dtype=float)\n",
    "adjacency = np.divide(adj,adj.max());\n",
    "adjacency[:5,:5]\n",
    "#n_nodes = # the number of nodes in the network"
   ]
  },
  {
   "cell_type": "markdown",
   "metadata": {},
   "source": [
    "## Part 2"
   ]
  },
  {
   "cell_type": "markdown",
   "metadata": {},
   "source": [
    "Execute the cell below to plot the (weighted) adjacency matrix of your network."
   ]
  },
  {
   "cell_type": "code",
   "execution_count": 86,
   "metadata": {},
   "outputs": [
    {
     "data": {
      "text/plain": [
       "Text(0.5, 1.05, 'adjacency matrix')"
      ]
     },
     "execution_count": 86,
     "metadata": {},
     "output_type": "execute_result"
    },
    {
     "data": {
      "image/png": "[encoded data removed]",
      "text/plain": [
       "<Figure size 432x288 with 1 Axes>"
      ]
     },
     "metadata": {},
     "output_type": "display_data"
    }
   ],
   "source": [
    "plt.spy(adjacency, markersize=0.2)\n",
    "plt.title('adjacency matrix')"
   ]
  },
  {
   "cell_type": "markdown",
   "metadata": {},
   "source": [
    "### Question 1\n",
    "\n",
    "What is the maximum number of links $L_{max}$ in a network with $N$ nodes (where $N$ is the number of nodes in your network)? How many links $L$ are there in your collected network? Comment on the sparsity of your network."
   ]
  },
  {
   "cell_type": "code",
   "execution_count": 87,
   "metadata": {},
   "outputs": [
    {
     "name": "stdout",
     "output_type": "stream",
     "text": [
      "187578.0\n",
      "13523\n"
     ]
    }
   ],
   "source": [
    "# Your code here.\n",
    "## lecture 1, slide 27:\n",
    "L_max=n_nodes*(n_nodes-1)/2\n",
    "print(L_max)\n",
    "\n",
    "## to compute L, we need to count how many non-zero elements there are in adjacency matrix\n",
    "## divide by 2 since undirected graph\n",
    "L=0\n",
    "for i in range(adjacency.shape[0]):\n",
    "    for ii in range(i,adjacency.shape[1]):\n",
    "        L+=(adjacency[i][ii]!=0)\n",
    "print(L)"
   ]
  },
  {
   "cell_type": "markdown",
   "metadata": {},
   "source": [
    "**Your answer here.**\n",
    "\n",
    "L_max is given by (n_nodes 2)\n",
    "\n",
    "L is given by the number of non-zero elements in adjacency matrix"
   ]
  },
  {
   "cell_type": "markdown",
   "metadata": {},
   "source": [
    "### Question 2\n",
    "\n",
    "Is your graph directed or undirected? If it is directed, convert it to an undirected graph by symmetrizing the adjacency matrix."
   ]
  },
  {
   "cell_type": "markdown",
   "metadata": {},
   "source": [
    "**Your answer here.**\n",
    "\n",
    "Our graph is directed"
   ]
  },
  {
   "cell_type": "code",
   "execution_count": 88,
   "metadata": {},
   "outputs": [
    {
     "name": "stdout",
     "output_type": "stream",
     "text": [
      "(array([154, 202]), array([202, 154]))\n",
      "int64\n"
     ]
    }
   ],
   "source": [
    "# Your code here.\n",
    "## to find where the array has max value\n",
    "indices = np.where(adj == adj.max())\n",
    "print(indices)\n",
    "print(adj.dtype)"
   ]
  },
  {
   "cell_type": "markdown",
   "metadata": {},
   "source": [
    "### Question 3\n",
    "\n",
    "In the cell below save the features dataframe and the **symmetrized** adjacency matrix. You can use the Pandas ``to_csv`` to save the ``features`` and Numpy's ``save`` to save the ``adjacency``. We will reuse those in the following milestones."
   ]
  },
  {
   "cell_type": "code",
   "execution_count": 89,
   "metadata": {},
   "outputs": [],
   "source": [
    "# Your code here.\n",
    "movies.to_csv('saved_features', sep='\\t', encoding='utf-8')\n",
    "np.save('saved_adjacency',adj)"
   ]
  },
  {
   "cell_type": "markdown",
   "metadata": {},
   "source": [
    "### Question 4\n",
    "\n",
    "Are the edges of your graph weighted?"
   ]
  },
  {
   "cell_type": "markdown",
   "metadata": {},
   "source": [
    "**Your answer here.**\n",
    "\n",
    "Yes, the edges are weigthed, the weigth corresponds to the number of shared actors"
   ]
  },
  {
   "cell_type": "markdown",
   "metadata": {},
   "source": [
    "### Question 5\n",
    "\n",
    "What is the degree distibution of your network? "
   ]
  },
  {
   "cell_type": "code",
   "execution_count": 90,
   "metadata": {},
   "outputs": [],
   "source": [
    "degree = np.sum(adjacency,0)# Your code here. It should be a numpy array.\n",
    "\n",
    "assert len(degree) == n_nodes\n"
   ]
  },
  {
   "cell_type": "markdown",
   "metadata": {},
   "source": [
    "Execute the cell below to see the histogram of the degree distribution."
   ]
  },
  {
   "cell_type": "code",
   "execution_count": 91,
   "metadata": {},
   "outputs": [
    {
     "data": {
      "image/png": "[encoded data removed]",
      "text/plain": [
       "<Figure size 432x288 with 1 Axes>"
      ]
     },
     "metadata": {},
     "output_type": "display_data"
    }
   ],
   "source": [
    "weights = np.ones_like(degree) / float(n_nodes)\n",
    "plt.hist(degree,range(0,10), weights=weights);"
   ]
  },
  {
   "cell_type": "markdown",
   "metadata": {},
   "source": [
    "What is the average degree?"
   ]
  },
  {
   "cell_type": "code",
   "execution_count": 92,
   "metadata": {},
   "outputs": [
    {
     "name": "stdout",
     "output_type": "stream",
     "text": [
      "1.7123116783418082\n"
     ]
    }
   ],
   "source": [
    "# Your code here.\n",
    "average_deg=np.divide(np.sum(degree),n_nodes)\n",
    "print(average_deg)\n",
    "#print(2*L/n_nodes) only valid for unweighted graphs"
   ]
  },
  {
   "cell_type": "markdown",
   "metadata": {},
   "source": [
    "### Question 6\n",
    "\n",
    "Comment on the degree distribution of your network."
   ]
  },
  {
   "cell_type": "markdown",
   "metadata": {},
   "source": [
    "**Your answer here.**"
   ]
  },
  {
   "cell_type": "markdown",
   "metadata": {},
   "source": [
    "### Question 7\n",
    "\n",
    "Write a function that takes as input the adjacency matrix of a graph and determines whether the graph is connected or not."
   ]
  },
  {
   "cell_type": "code",
   "execution_count": 137,
   "metadata": {},
   "outputs": [
    {
     "data": {
      "text/plain": [
       "False"
      ]
     },
     "execution_count": 137,
     "metadata": {},
     "output_type": "execute_result"
    }
   ],
   "source": [
    "# Si vous voulez test la fct du Turf <3\n",
    "matrix = np.array([[0, 2, 4, 0, 0, 0, 0, 0],\n",
    "                   [2, 0, 2, 0, 0, 0, 0, 0],\n",
    "                   [4, 2, 0, 0, 0, 0, 0, 0],\n",
    "                   [0, 0, 0, 0, 0, 0, 0, 2],\n",
    "                   [0, 0, 0, 0, 0, 0, 0, 6],\n",
    "                   [0, 0, 0, 0, 0, 0, 3, 5],\n",
    "                   [0, 0, 0, 0, 0, 3, 0, 1],\n",
    "                   [0, 0, 0, 2, 6, 5, 1, 0]])\n",
    "\n",
    "connected_graph(matrix)"
   ]
  },
  {
   "cell_type": "code",
   "execution_count": 136,
   "metadata": {},
   "outputs": [],
   "source": [
    "def connected_graph(adjacency):\n",
    "    \"\"\"Determines whether a graph is connected.\n",
    "    \n",
    "    Parameters\n",
    "    ----------\n",
    "    adjacency: numpy array\n",
    "        The (weighted) adjacency matrix of a graph.\n",
    "    \n",
    "    Returns\n",
    "    -------\n",
    "    bool\n",
    "        True if the graph is connected, False otherwise.\n",
    "    \"\"\"\n",
    "    \n",
    "    # Your code here.\n",
    "    \n",
    "    # Conversion of the weighted matrix into a binary matrix\n",
    "    bin_adj = np.ceil(np.divide(adjacency,adjacency.max()))\n",
    "    \n",
    "    # Connection vector of node n°1 is taken as first equivalent node\n",
    "    equ_node = bin_adj[0]\n",
    "    \n",
    "    for i in range(len(bin_adj)):\n",
    "        # Condition if equivalent node is connected to the analysed one\n",
    "        if((any(np.logical_and(equ_node,bin_adj[i])))or(equ_node[i]==1)):\n",
    "            # Analysed node is \"added\" to the equivalent node\n",
    "            equ_node=np.logical_or(equ_node,bin_adj[i])\n",
    "            # Equivalent node is then connected to the node n°i\n",
    "            equ_node[i]=1\n",
    "    \n",
    "    # Equivalent node is only composed of \"1\" if graph is connected\n",
    "    connected = all(equ_node)\n",
    "    \n",
    "    return connected"
   ]
  },
  {
   "cell_type": "markdown",
   "metadata": {},
   "source": [
    "Is your graph connected? Run the ``connected_graph`` function to determine your answer."
   ]
  },
  {
   "cell_type": "code",
   "execution_count": 95,
   "metadata": {},
   "outputs": [
    {
     "data": {
      "text/plain": [
       "False"
      ]
     },
     "execution_count": 95,
     "metadata": {},
     "output_type": "execute_result"
    }
   ],
   "source": [
    "# Your code here.\n",
    "\n",
    "connected_graph(adjacency)"
   ]
  },
  {
   "cell_type": "markdown",
   "metadata": {},
   "source": [
    "### Question 8\n",
    "\n",
    "Write a function that extracts the connected components of a graph."
   ]
  },
  {
   "cell_type": "code",
   "execution_count": 96,
   "metadata": {},
   "outputs": [],
   "source": [
    "bin_adj = np.array([[0, 0, 0, 1, 0, 0, 0],\n",
    "                    [0, 0, 1, 0, 0, 0, 0],\n",
    "                    [0, 1, 0, 0, 0, 0, 0],\n",
    "                    [1, 0, 0, 0, 0, 0, 0],\n",
    "                    [0, 0, 0, 0, 0, 1, 1],\n",
    "                    [0, 0, 0, 0, 1, 0, 1],\n",
    "                    [0, 0, 0, 0, 1, 1, 0]])\n",
    "\n",
    "\n",
    "#find_components(bin_adj)\n",
    "#connected_graph(bin_adj)"
   ]
  },
  {
   "cell_type": "code",
   "execution_count": 97,
   "metadata": {},
   "outputs": [
    {
     "data": {
      "text/plain": [
       "False"
      ]
     },
     "execution_count": 97,
     "metadata": {},
     "output_type": "execute_result"
    }
   ],
   "source": [
    "bin_adj = np.array([[0, 0, 0, 1, 1, 1, 0],\n",
    "                    [0, 0, 1, 0, 0, 0, 1],\n",
    "                    [0, 1, 0, 0, 0, 0, 1],\n",
    "                    [1, 0, 0, 0, 0, 0, 0],\n",
    "                    [1, 0, 0, 0, 0, 1, 0],\n",
    "                    [1, 0, 0, 0, 1, 0, 0],\n",
    "                    [0, 1, 1, 0, 0, 0, 0]])\n",
    "\n",
    "connected_graph(bin_adj)"
   ]
  },
  {
   "cell_type": "code",
   "execution_count": 98,
   "metadata": {},
   "outputs": [
    {
     "name": "stdout",
     "output_type": "stream",
     "text": [
      "601\n",
      "604\n"
     ]
    }
   ],
   "source": [
    "bin_mat = np.ceil(np.divide(adjacency,adjacency.max()))\n",
    "for i in range(len(bin_mat)):\n",
    "    if not any(bin_mat[i]):\n",
    "        print(i)"
   ]
  },
  {
   "cell_type": "code",
   "execution_count": 100,
   "metadata": {
    "scrolled": true
   },
   "outputs": [
    {
     "data": {
      "text/plain": [
       "<matplotlib.lines.Line2D at 0x1246fc630>"
      ]
     },
     "execution_count": 100,
     "metadata": {},
     "output_type": "execute_result"
    },
    {
     "data": {
      "image/png": "[encoded data removed]",
      "text/plain": [
       "<Figure size 720x720 with 2 Axes>"
      ]
     },
     "metadata": {},
     "output_type": "display_data"
    }
   ],
   "source": [
    "#bin_mat = np.ceil(np.divide(adjacency,adjacency.max()))\n",
    "mat = bin_adj\n",
    "\n",
    "comp = []\n",
    "\n",
    "while(1):\n",
    "    equ_node = mat[0]\n",
    "    queue=[]\n",
    "\n",
    "    for i in range(len(mat)):\n",
    "        if((any(np.logical_and(equ_node,mat[i])))or(equ_node[i]==1)):\n",
    "            equ_node=1*np.logical_or(equ_node,mat[i])\n",
    "        else:\n",
    "            queue.append(mat[i])\n",
    "    \n",
    "    mat = (mat @ np.diag(equ_node)).astype(int)\n",
    "    \n",
    "    i=0\n",
    "    \n",
    "    while i < len(mat):\n",
    "        if not any(mat[i]):\n",
    "            mat = np.delete(mat, i, 0)\n",
    "            mat = np.delete(mat, i, 1)\n",
    "        else: i+=1\n",
    "    \n",
    "    comp.append(mat)\n",
    "    \n",
    "    if queue:\n",
    "        mat = np.asarray(queue)\n",
    "    \n",
    "        i=0\n",
    "    \n",
    "        while i < len(mat):\n",
    "            if not any(mat[:,i]):  mat = np.delete(mat, i, 1)\n",
    "            else: i+=1\n",
    "    else: break\n",
    "\n",
    "plt.figure(figsize=(10,10))\n",
    "plt.subplot(121)\n",
    "plt.spy(comp[0], markersize=2)\n",
    "plt.subplot(122)\n",
    "plt.spy(comp[1], markersize=2)"
   ]
  },
  {
   "cell_type": "code",
   "execution_count": 140,
   "metadata": {},
   "outputs": [],
   "source": [
    "def find_components(adjacency):\n",
    "    \"\"\"Find the connected components of a graph.\n",
    "    \n",
    "    Parameters\n",
    "    ----------\n",
    "    adjacency: numpy array\n",
    "        The (weighted) adjacency matrix of a graph.\n",
    "    \n",
    "    Returns\n",
    "    -------\n",
    "    list of numpy arrays\n",
    "        A list of adjacency matrices, one per connected component.\n",
    "    \"\"\"\n",
    "    \n",
    "    # Your code here.\n",
    "    \n",
    "    # Conversion of the weighted matrix into a binary matrix\n",
    "    mat = adjacency\n",
    "\n",
    "    components = []\n",
    "\n",
    "    while(True):\n",
    "        equ_node = mat[0]\n",
    "        queue=[]\n",
    "\n",
    "        for i in range(len(mat)):\n",
    "            if((any(np.logical_and(equ_node,mat[i])))or(equ_node[i])):\n",
    "                equ_node=1*np.logical_or(equ_node,mat[i])\n",
    "                equ_node[i]=1\n",
    "            else:\n",
    "                queue.append(mat[i])\n",
    "        \n",
    "        mat = (mat @ np.diag(equ_node))\n",
    "\n",
    "        i=0\n",
    "\n",
    "        while i < len(mat):\n",
    "            if not any(mat[i]):\n",
    "                mat = np.delete(mat, i, 0)\n",
    "                mat = np.delete(mat, i, 1)\n",
    "            else: i+=1\n",
    "\n",
    "        components.append(mat)\n",
    "        \n",
    "        i = 0\n",
    "        while i < len(queue):\n",
    "            if any(np.logical_and(equ_node,queue[i])):\n",
    "                queue.pop(i)\n",
    "            else:\n",
    "                i+=1\n",
    "\n",
    "        if queue:\n",
    "            mat = np.asarray(queue)\n",
    "            #print('Q =',queue)\n",
    "            #print('M =',mat)\n",
    "\n",
    "            i=0\n",
    "            \n",
    "            while i < max(mat.shape):\n",
    "                if not any(mat[:,i]):\n",
    "                    mat = np.delete(mat, i, 1)\n",
    "                else:\n",
    "                    i+=1\n",
    "                \n",
    "        else: break\n",
    "        \n",
    "    print(len(components),' Components found')\n",
    "    \n",
    "    return components"
   ]
  },
  {
   "cell_type": "markdown",
   "metadata": {},
   "source": [
    "How many connected components is your network composed of? What is the size of the largest connected component? Run the ``find_components`` function to determine your answer. "
   ]
  },
  {
   "cell_type": "code",
   "execution_count": 102,
   "metadata": {},
   "outputs": [
    {
     "name": "stdout",
     "output_type": "stream",
     "text": [
      "(611, 611)\n"
     ]
    }
   ],
   "source": [
    "i=0\n",
    "while i < len(adjacency):\n",
    "    if not any(adjacency[i]):\n",
    "        adjacency = np.delete(adjacency, i, 0)\n",
    "        adjacency = np.delete(adjacency, i, 1)\n",
    "    else:\n",
    "        i+=1\n",
    "        \n",
    "print(adjacency.shape)"
   ]
  },
  {
   "cell_type": "code",
   "execution_count": 131,
   "metadata": {},
   "outputs": [],
   "source": [
    "bin_adj = np.array([[0, 0, 0, 2, 0, 0, 0],\n",
    "                    [0, 0, 1, 0, 0, 0, 0],\n",
    "                    [0, 1, 0, 0, 0, 0, 0],\n",
    "                    [2, 0, 0, 0, 0, 0, 0],\n",
    "                    [0, 0, 0, 0, 0, 5, 1],\n",
    "                    [0, 0, 0, 0, 5, 0, 3],\n",
    "                    [0, 0, 0, 0, 1, 3, 0]])"
   ]
  },
  {
   "cell_type": "code",
   "execution_count": 141,
   "metadata": {},
   "outputs": [
    {
     "name": "stdout",
     "output_type": "stream",
     "text": [
      "2  Components found\n"
     ]
    }
   ],
   "source": [
    "# Your code here.\n",
    "bernard=find_components(adjacency)"
   ]
  },
  {
   "cell_type": "code",
   "execution_count": 142,
   "metadata": {},
   "outputs": [
    {
     "name": "stdout",
     "output_type": "stream",
     "text": [
      "True\n",
      "True\n"
     ]
    }
   ],
   "source": [
    "print(np.allclose(bernard[0], bernard[0].T, atol=1e-8))\n",
    "print(np.allclose(bernard[1], bernard[1].T, atol=1e-8))"
   ]
  },
  {
   "cell_type": "markdown",
   "metadata": {},
   "source": [
    "### Question 9\n",
    "\n",
    "Write a function that takes as input the adjacency matrix and a node (`source`) and returns the length of the shortest path between that node and all nodes in the graph using Dijkstra's algorithm. **For the purposes of this assignment we are interested in the hop distance between nodes, not in the sum of weights. **\n",
    "\n",
    "Hint: You might want to mask the adjacency matrix in the function ``compute_shortest_path_lengths`` in order to make sure you obtain a binary adjacency matrix. "
   ]
  },
  {
   "cell_type": "code",
   "execution_count": null,
   "metadata": {},
   "outputs": [],
   "source": [
    "def compute_shortest_path_lengths(adjacency, source):\n",
    "    \"\"\"Compute the shortest path length between a source node and all nodes.\n",
    "    \n",
    "    Parameters\n",
    "    ----------\n",
    "    adjacency: numpy array\n",
    "        The (weighted) adjacency matrix of a graph.\n",
    "    source: int\n",
    "        The source node. A number between 0 and n_nodes-1.\n",
    "    \n",
    "    Returns\n",
    "    -------\n",
    "    list of ints\n",
    "        The length of the shortest path from source to all nodes. Returned list should be of length n_nodes.\n",
    "    \"\"\"\n",
    "    \n",
    "    # Your code here.\n",
    "    \n",
    "    return shortest_path_lengths"
   ]
  },
  {
   "cell_type": "markdown",
   "metadata": {},
   "source": [
    "### Question 10\n",
    "\n",
    "The diameter of the graph is the length of the longest shortest path between any pair of nodes. Use the above developed function to compute the diameter of the graph (or the diameter of the largest connected component of the graph if the graph is not connected). If your graph (or largest connected component) is very large, computing the diameter will take very long. In that case downsample your graph so that it has 1.000 nodes. There are many ways to reduce the size of a graph. For the purposes of this milestone you can chose to randomly select 1.000 nodes. "
   ]
  },
  {
   "cell_type": "code",
   "execution_count": null,
   "metadata": {},
   "outputs": [],
   "source": [
    "# Your code here."
   ]
  },
  {
   "cell_type": "markdown",
   "metadata": {},
   "source": [
    "### Question 11\n",
    "\n",
    "Write a function that takes as input the adjacency matrix, a path length, and two nodes (`source` and `target`), and returns the number of paths of the given length between them."
   ]
  },
  {
   "cell_type": "code",
   "execution_count": null,
   "metadata": {},
   "outputs": [],
   "source": [
    "def compute_paths(adjacency, source, target, length):\n",
    "    \"\"\"Compute the number of paths of a given length between a source and target node.\n",
    "    \n",
    "    Parameters\n",
    "    ----------\n",
    "    adjacency: numpy array\n",
    "        The (weighted) adjacency matrix of a graph.\n",
    "    source: int\n",
    "        The source node. A number between 0 and n_nodes-1.\n",
    "    target: int\n",
    "        The target node. A number between 0 and n_nodes-1.\n",
    "    length: int\n",
    "        The path length to be considered.\n",
    "    \n",
    "    Returns\n",
    "    -------\n",
    "    int\n",
    "        The number of paths.\n",
    "    \"\"\"\n",
    "    \n",
    "    # Your code here.\n",
    "    \n",
    "    return n_paths"
   ]
  },
  {
   "cell_type": "markdown",
   "metadata": {},
   "source": [
    "Test your function on 5 pairs of nodes, with different lengths."
   ]
  },
  {
   "cell_type": "code",
   "execution_count": null,
   "metadata": {},
   "outputs": [],
   "source": [
    "print(compute_paths(adjacency, 0, 10, 1))\n",
    "print(compute_paths(adjacency, 0, 10, 2))\n",
    "print(compute_paths(adjacency, 0, 10, 3))\n",
    "print(compute_paths(adjacency, 23, 67, 2))\n",
    "print(compute_paths(adjacency, 15, 93, 4))"
   ]
  },
  {
   "cell_type": "markdown",
   "metadata": {},
   "source": [
    "### Question 12\n",
    "\n",
    "How many paths of length 3 are there in your graph? Hint: calling the `compute_paths` function on every pair of node is not an efficient way to do it."
   ]
  },
  {
   "cell_type": "code",
   "execution_count": null,
   "metadata": {},
   "outputs": [],
   "source": [
    "# Your code here."
   ]
  },
  {
   "cell_type": "markdown",
   "metadata": {},
   "source": [
    "### Question 13\n",
    "\n",
    "Write a function that takes as input the adjacency matrix of your graph (or of the largest connected component of your graph) and a node and returns the clustering coefficient of that node. "
   ]
  },
  {
   "cell_type": "code",
   "execution_count": null,
   "metadata": {},
   "outputs": [],
   "source": [
    "def compute_clustering_coefficient(adjacency, node):\n",
    "    \"\"\"Compute the clustering coefficient of a node.\n",
    "    \n",
    "    Parameters\n",
    "    ----------\n",
    "    adjacency: numpy array\n",
    "        The (weighted) adjacency matrix of a graph.\n",
    "    node: int\n",
    "        The node whose clustering coefficient will be computed. A number between 0 and n_nodes-1.\n",
    "    \n",
    "    Returns\n",
    "    -------\n",
    "    float\n",
    "        The clustering coefficient of the node. A number between 0 and 1.\n",
    "    \"\"\"\n",
    "    \n",
    "    # Your code here.\n",
    "    \n",
    "    return clustering_coefficient"
   ]
  },
  {
   "cell_type": "markdown",
   "metadata": {},
   "source": [
    "### Question 14\n",
    "\n",
    "What is the average clustering coefficient of your graph (or of the largest connected component of your graph if your graph is disconnected)? Use the function ``compute_clustering_coefficient`` to determine your answer."
   ]
  },
  {
   "cell_type": "code",
   "execution_count": null,
   "metadata": {},
   "outputs": [],
   "source": [
    "# Your code here."
   ]
  }
 ],
 "metadata": {
  "kernelspec": {
   "display_name": "Python 3",
   "language": "python",
   "name": "python3"
  },
  "language_info": {
   "codemirror_mode": {
    "name": "ipython",
    "version": 3
   },
   "file_extension": ".py",
   "mimetype": "text/x-python",
   "name": "python",
   "nbconvert_exporter": "python",
   "pygments_lexer": "ipython3",
   "version": "3.7.0"
  }
 },
 "nbformat": 4,
 "nbformat_minor": 2
}
