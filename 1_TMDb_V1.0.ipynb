{
 "cells": [
  {
   "cell_type": "markdown",
   "metadata": {},
   "source": [
    "# NTDS'18 milestone 1: network collection and properties\n",
    "[Effrosyni Simou](https://lts4.epfl.ch/simou), [EPFL LTS4](https://lts4.epfl.ch)"
   ]
  },
  {
   "cell_type": "markdown",
   "metadata": {},
   "source": [
    "## Students\n",
    "\n",
    "* Team: `10`\n",
    "* Students: `Fluhr Hugo, Donzier Paul, Delagoums Frédéric, Cionca Alexandre`\n",
    "* Dataset: `IMDb, tmdb_5000_movies.csv`"
   ]
  },
  {
   "cell_type": "markdown",
   "metadata": {},
   "source": [
    "## Rules\n",
    "\n",
    "* Milestones have to be completed by teams. No collaboration between teams is allowed.\n",
    "* Textual answers shall be short. Typically one to three sentences.\n",
    "* Code has to be clean.\n",
    "* You cannot import any other library than we imported.\n",
    "* When submitting, the notebook is executed and the results are stored. I.e., if you open the notebook again it should show numerical results and plots. We won't be able to execute your notebooks.\n",
    "* The notebook is re-executed from a blank state before submission. That is to be sure it is reproducible. You can click \"Kernel\" then \"Restart & Run All\" in Jupyter."
   ]
  },
  {
   "cell_type": "markdown",
   "metadata": {},
   "source": [
    "## Objective "
   ]
  },
  {
   "cell_type": "markdown",
   "metadata": {},
   "source": [
    "The purpose of this milestone is to start getting acquainted to the network that you will use for this class. In the first part of the milestone you will import your data using [Pandas](http://pandas.pydata.org) and you will create the adjacency matrix using [Numpy](http://www.numpy.org). This part is project specific. In the second part you will have to compute some basic properties of your network. **For the computation of the properties you are only allowed to use the packages that have been imported in the cell below.** You are not allowed to use any graph-specific toolboxes for this milestone (such as networkx and PyGSP). Furthermore, the aim is not to blindly compute the network properties, but to also start to think about what kind of network you will be working with this semester. "
   ]
  },
  {
   "cell_type": "code",
   "execution_count": 1,
   "metadata": {},
   "outputs": [],
   "source": [
    "import numpy as np\n",
    "import pandas as pd\n",
    "import matplotlib.pyplot as plt\n",
    "import json\n",
    "import networkx as nx"
   ]
  },
  {
   "cell_type": "markdown",
   "metadata": {},
   "source": [
    "## Part 1 - Import your data and manipulate them. "
   ]
  },
  {
   "cell_type": "markdown",
   "metadata": {},
   "source": [
    "###  A. Load your data in a Panda dataframe."
   ]
  },
  {
   "cell_type": "markdown",
   "metadata": {},
   "source": [
    "First, you should define and understand what are your nodes, what features you have and what are your labels. Please provide below a Panda dataframe where each row corresponds to a node with its features and labels. For example, in the the case of the Free Music Archive (FMA) Project, each row of the dataframe would be of the following form:\n",
    "\n",
    "\n",
    "| Track   |  Feature 1  | Feature 2 | . . . | Feature 518|  Label 1 |  Label 2 |. . .|Label 16|\n",
    "|:-------:|:-----------:|:---------:|:-----:|:----------:|:--------:|:--------:|:---:|:------:|\n",
    "|         |             |           |       |            |          |          |     |        |\n",
    "\n",
    "It is possible that in some of the projects either the features or the labels are not available. This is OK, in that case just make sure that you create a dataframe where each of the rows corresponds to a node and its associated features or labels."
   ]
  },
  {
   "cell_type": "code",
   "execution_count": 2,
   "metadata": {
    "scrolled": true
   },
   "outputs": [],
   "source": [
    "# We load both datasets, credits contains the casts of the movies and movies contains movie features\n",
    "credits=pd.read_csv('../dataset/TMDb/tmdb_5000_credits.csv')\n",
    "movies=pd.read_csv('../dataset/TMDb/tmdb_5000_movies.csv')\n",
    "\n",
    "# The columns cast and crew of the dataset credits are strings, we use json.loads to convert into dict\n",
    "json_columns = ['cast', 'crew']\n",
    "for column in json_columns:\n",
    "     credits[column] = credits[column].apply(json.loads)\n"
   ]
  },
  {
   "cell_type": "code",
   "execution_count": 3,
   "metadata": {
    "scrolled": false
   },
   "outputs": [
    {
     "data": {
      "text/plain": [
       "3162"
      ]
     },
     "execution_count": 3,
     "metadata": {},
     "output_type": "execute_result"
    }
   ],
   "source": [
    "# DATA FILTERING\n",
    "\n",
    "joined=credits.join(movies, rsuffix='other')\n",
    "joined=joined.drop(columns=['budget','overview','original_language','vote_average','crew',\n",
    "                            'popularity','genres','homepage','id','keywords','original_title',\n",
    "                            'production_companies','production_countries','release_date',\n",
    "                            'revenue','runtime','spoken_languages','tagline','titleother'])\n",
    "\n",
    "#To reduce the dataset, we filter unreleased movies and movies with a vote count inferior to 100\n",
    "joined=joined[joined.status=='Released']\n",
    "joined=joined[joined.vote_count >=100]\n",
    "joined=joined.drop(columns=['vote_count','status'])\n",
    "# Reseting the index after filtering\n",
    "joined=joined.reset_index(drop=True)\n",
    "len(joined)"
   ]
  },
  {
   "cell_type": "code",
   "execution_count": 5,
   "metadata": {},
   "outputs": [
    {
     "name": "stderr",
     "output_type": "stream",
     "text": [
      "C:\\Users\\Hugo\\Anaconda3\\lib\\site-packages\\ipykernel_launcher.py:8: SettingWithCopyWarning: \n",
      "A value is trying to be set on a copy of a slice from a DataFrame\n",
      "\n",
      "See the caveats in the documentation: http://pandas.pydata.org/pandas-docs/stable/indexing.html#indexing-view-versus-copy\n",
      "  \n"
     ]
    }
   ],
   "source": [
    "#Creating empty column which will be filled with the id of the actors present in each movie\n",
    "joined['actors_id']=\"\"\n",
    "\n",
    "for i in range(len(joined.title)):\n",
    "    strs=[]\n",
    "    for ii in range(len(joined.cast[i])):\n",
    "        strs.append(joined.cast[i][ii]['id'])#.loc[:,('cast',i,ii)]\n",
    "    joined.actors_id[i]=np.asarray(strs)"
   ]
  },
  {
   "cell_type": "markdown",
   "metadata": {},
   "source": [
    "### B. Create the adjacency matrix of your network."
   ]
  },
  {
   "cell_type": "markdown",
   "metadata": {},
   "source": [
    "Remember that there are edges connecting the attributed nodes that you organized in the dataframe above. The connectivity of the network is captured by the adjacency matrix $W$. If $N$ is the number of nodes, the adjacency matrix is an $N \\times N$ matrix where the value of $W(i,j)$ is the weight of the edge connecting node $i$ to node $j$.  \n",
    "\n",
    "There are two possible scenarios for your adjacency matrix construction, as you already learned in the tutorial by Benjamin:\n",
    "\n",
    "1) The edges are given to you explicitly. In this case you should simply load the file containing the edge information and parse it in order to create your adjacency matrix. See how to do that in the  [graph from edge list]() demo.\n",
    "\n",
    "2) The edges are not given to you. In that case you will have to create a feature graph. In order to do that you will have to chose a distance that will quantify how similar two nodes are based on the values in their corresponding feature vectors. In the [graph from features]() demo Benjamin showed you how to build feature graphs when using Euclidean distances between feature vectors. Be curious and explore other distances as well! For instance, in the case of high-dimensional feature vectors, you might want to consider using the cosine distance. Once you compute the distances between your nodes you will have a fully connected network. Do not forget to sparsify by keeping the most important edges in your network.\n",
    "\n",
    "Follow the appropriate steps for the construction of the adjacency matrix of your network and provide it in the Numpy array ``adjacency`` below: "
   ]
  },
  {
   "cell_type": "code",
   "execution_count": 6,
   "metadata": {},
   "outputs": [],
   "source": [
    "# Your code here\n",
    "\n",
    "n_nodes = len(joined) # the number of nodes in the network\n",
    "\n",
    "adjacency=np.zeros((n_nodes,n_nodes), dtype=float)\n",
    "\n",
    "# The adjacency matrice contains the number of common actors for each pair of nodes (movies)\n",
    "# The matrice is set to be symmetric since the relation of shared actor is undirected\n",
    "for i in range(len(joined.index)):\n",
    "    for ii in range(i+1,(len(joined.index))):\n",
    "            adjacency[i,ii]=adjacency[ii,i]=len(np.intersect1d(joined.actors_id[i],joined.actors_id[ii]))\n",
    "            \n",
    "# We normalize by the maximum number of shared actors between two movies of the dataset\n",
    "adjacency = np.divide(adjacency,adjacency.max());"
   ]
  },
  {
   "cell_type": "code",
   "execution_count": 7,
   "metadata": {},
   "outputs": [],
   "source": [
    "# We see from the adjacency matrix that there are some movies that don't have any connections to any other movies,\n",
    "# these nodes don't present any interest to us so we remove them from both the dataframe and the adjacency matrix\n",
    "i=0\n",
    "while i < len(adjacency):\n",
    "    if not any(adjacency[i]):\n",
    "        adjacency = np.delete(adjacency, i, 0)\n",
    "        adjacency = np.delete(adjacency, i, 1)\n",
    "        joined=joined.drop([i])\n",
    "        joined=joined.reset_index(drop=True)\n",
    "    else:\n",
    "        i+=1\n",
    "        \n",
    "# We need to update n_nodes since we have dropped some movies\n",
    "\n",
    "n_nodes=len(adjacency)"
   ]
  },
  {
   "cell_type": "markdown",
   "metadata": {},
   "source": [
    "## Part 2"
   ]
  },
  {
   "cell_type": "markdown",
   "metadata": {},
   "source": [
    "Execute the cell below to plot the (weighted) adjacency matrix of your network."
   ]
  },
  {
   "cell_type": "code",
   "execution_count": 10,
   "metadata": {},
   "outputs": [],
   "source": [
    "#adjacency[:10,:10]"
   ]
  },
  {
   "cell_type": "raw",
   "metadata": {},
   "source": [
    "plt.figure(figsize=(10,10))\n",
    "plt.spy(adjacency, markersize=0.2)\n",
    "plt.title('adjacency matrix')"
   ]
  },
  {
   "cell_type": "markdown",
   "metadata": {},
   "source": [
    "### Question 1\n",
    "\n",
    "What is the maximum number of links $L_{max}$ in a network with $N$ nodes (where $N$ is the number of nodes in your network)? How many links $L$ are there in your collected network? Comment on the sparsity of your network."
   ]
  },
  {
   "cell_type": "code",
   "execution_count": 11,
   "metadata": {},
   "outputs": [
    {
     "name": "stdout",
     "output_type": "stream",
     "text": [
      "4921953\n",
      "163621\n"
     ]
    }
   ],
   "source": [
    "# We find in the first lecture of the course the expression of L_max, the maximum number of links for a fully connected graph.\n",
    "# L max is equal to the number of distinct pair of nodes present in the graph.\n",
    "L_max=int(n_nodes*(n_nodes-1)/2)\n",
    "print(L_max)\n",
    "\n",
    "## to compute L, we need to count how many non-zero elements there are in adjacency matrix\n",
    "## divide by 2 since undirected graph\n",
    "L=0\n",
    "for i in range(adjacency.shape[0]):\n",
    "    for ii in range(i,adjacency.shape[1]):\n",
    "        L+=(adjacency[i][ii]!=0)\n",
    "print(L)"
   ]
  },
  {
   "cell_type": "markdown",
   "metadata": {},
   "source": [
    "L_max for our graph which has 3138 nodes is equal to 4'921'953\n",
    "\n",
    "In our graph, there are 163'621 links\n",
    "\n",
    "We find a density: L/L_max = 0.033, showing that our graph, much like many real graphs, is sparse"
   ]
  },
  {
   "cell_type": "markdown",
   "metadata": {},
   "source": [
    "### Question 2\n",
    "\n",
    "Is your graph directed or undirected? If it is directed, convert it to an undirected graph by symmetrizing the adjacency matrix."
   ]
  },
  {
   "cell_type": "markdown",
   "metadata": {},
   "source": [
    "Our graph is undirected. The links between movies represent the number of actors they share which is an undirected relation."
   ]
  },
  {
   "cell_type": "markdown",
   "metadata": {},
   "source": [
    "### Question 3\n",
    "\n",
    "In the cell below save the features dataframe and the **symmetrized** adjacency matrix. You can use the Pandas ``to_csv`` to save the ``features`` and Numpy's ``save`` to save the ``adjacency``. We will reuse those in the following milestones."
   ]
  },
  {
   "cell_type": "code",
   "execution_count": 12,
   "metadata": {},
   "outputs": [],
   "source": [
    "# Your code here.\n",
    "movies.to_csv('saved_features', sep='\\t', encoding='utf-8')\n",
    "np.save('saved_adjacency',adjacency)"
   ]
  },
  {
   "cell_type": "markdown",
   "metadata": {},
   "source": [
    "### Question 4\n",
    "\n",
    "Are the edges of your graph weighted?"
   ]
  },
  {
   "cell_type": "markdown",
   "metadata": {},
   "source": [
    "Yes, the edges are weigthed, the weigth corresponds to the number of shared actors.\n",
    "Since we have normalized the weigths, they represent a proportion of how many actors two movies share divided by the maximum of shared actors between two movies found in the dataset."
   ]
  },
  {
   "cell_type": "markdown",
   "metadata": {},
   "source": [
    "### Question 5\n",
    "\n",
    "What is the degree distibution of your network? "
   ]
  },
  {
   "cell_type": "code",
   "execution_count": 13,
   "metadata": {},
   "outputs": [],
   "source": [
    "# We create an array containing the degree of each node, the degree being the sum of the weights.\n",
    "degree = np.sum(adjacency,0)\n",
    "\n",
    "# Here we verify that there are as many elements in the degree array as there are nodes (movies) in the graph.\n",
    "assert len(degree) == n_nodes"
   ]
  },
  {
   "cell_type": "markdown",
   "metadata": {},
   "source": [
    "Execute the cell below to see the histogram of the degree distribution."
   ]
  },
  {
   "cell_type": "code",
   "execution_count": 14,
   "metadata": {},
   "outputs": [
    {
     "data": {
      "image/png": "[encoded data removed]",
      "text/plain": [
       "<Figure size 432x288 with 1 Axes>"
      ]
     },
     "metadata": {},
     "output_type": "display_data"
    }
   ],
   "source": [
    "weights = np.ones_like(degree) / float(n_nodes)\n",
    "plt.hist(degree, weights=weights);"
   ]
  },
  {
   "cell_type": "markdown",
   "metadata": {},
   "source": [
    "What is the average degree?"
   ]
  },
  {
   "cell_type": "code",
   "execution_count": 15,
   "metadata": {},
   "outputs": [
    {
     "name": "stdout",
     "output_type": "stream",
     "text": [
      "3.3771979154950618\n"
     ]
    }
   ],
   "source": [
    "# Your code here.\n",
    "average_deg=np.divide(np.sum(degree),n_nodes)\n",
    "print(average_deg)"
   ]
  },
  {
   "cell_type": "markdown",
   "metadata": {},
   "source": [
    "### Question 6\n",
    "\n",
    "Comment on the degree distribution of your network."
   ]
  },
  {
   "cell_type": "markdown",
   "metadata": {},
   "source": [
    "**Your answer here.**\n",
    "\n",
    "We see from the degree histogram that"
   ]
  },
  {
   "cell_type": "code",
   "execution_count": 16,
   "metadata": {},
   "outputs": [],
   "source": [
    "# We create an unweighted version ot the adjacency matrix which we will use in several of the following questions.\n",
    "unw_adj=np.where(adjacency != 0, 1, 0)"
   ]
  },
  {
   "cell_type": "markdown",
   "metadata": {},
   "source": [
    "### Question 7\n",
    "\n",
    "Write a function that takes as input the adjacency matrix of a graph and determines whether the graph is connected or not."
   ]
  },
  {
   "cell_type": "code",
   "execution_count": 17,
   "metadata": {},
   "outputs": [],
   "source": [
    "# We implement a version of the BFS algorithm in an additional function that we will need for\n",
    "# both questions 7 and 8\n",
    "\n",
    "def bfs(adjacency, source_node):\n",
    "    # explored is an array where explored[a_certain_node]= 0 when this a_certain_node has\n",
    "    # not been visited or = 1 when this a_certain_node has been visited\n",
    "    n_nodes=len(adjacency)\n",
    "    explored=np.full(n_nodes,0)\n",
    "    # store nodes to explore in a second list\n",
    "    to_explore = [source_node]\n",
    "    \n",
    "    # the source node is already explored\n",
    "    explored[source_node] = 1  \n",
    "    \n",
    "    # stay in loop while there are still nodes to explore\n",
    "    while to_explore:\n",
    "       # pop first node frome the queue and add it to to the explored nodes\n",
    "        current_node = to_explore.pop(0)\n",
    "    #    print('cn:',current_node)\n",
    "        explored[current_node] = 1\n",
    "        ##print(explored)\n",
    "        # copy the line of the matrix corresponding to the current node to see its connections\n",
    "    #    print('adj de cn:',adjacency[current_node])\n",
    "        neighbours = np.argwhere(adjacency[current_node]).flatten()\n",
    "    #    print('voisins de :',current_node,'=',neighbours)\n",
    "        # set the neighbours of current_node to be explored\n",
    "\n",
    "        for i in range(len(neighbours)):\n",
    "            if not explored[neighbours[i]]:\n",
    "                to_explore.append(neighbours[i])\n",
    "                explored[neighbours[i]]=1\n",
    "    #        print('i:',i)\n",
    "    \n",
    "    return explored   "
   ]
  },
  {
   "cell_type": "code",
   "execution_count": 18,
   "metadata": {},
   "outputs": [],
   "source": [
    "def connected_graph(adjacency):\n",
    "    \"\"\"Determines whether a graph is connected.\n",
    "    \n",
    "    Parameters\n",
    "    ----------\n",
    "    adjacency: numpy array\n",
    "        The (weighted) adjacency matrix of a graph.\n",
    "    \n",
    "    Returns\n",
    "    -------\n",
    "    bool\n",
    "        True if the graph is connected, False otherwise.\n",
    "    \"\"\"\n",
    "    \n",
    "    # Your code here.\n",
    "    \n",
    "    # We call the previously implemented bfs function and check if the number of reached starting from the first\n",
    "    # node is equal to the number of nodes in the graph\n",
    "    n_nodes=len(adjacency)\n",
    "    connected = (len(np.argwhere(bfs(adjacency,0)))==n_nodes)\n",
    "    \n",
    "    return connected"
   ]
  },
  {
   "cell_type": "markdown",
   "metadata": {},
   "source": [
    "Is your graph connected? Run the ``connected_graph`` function to determine your answer."
   ]
  },
  {
   "cell_type": "code",
   "execution_count": 19,
   "metadata": {},
   "outputs": [
    {
     "data": {
      "text/plain": [
       "True"
      ]
     },
     "execution_count": 19,
     "metadata": {},
     "output_type": "execute_result"
    }
   ],
   "source": [
    "connected_graph(adjacency)"
   ]
  },
  {
   "cell_type": "markdown",
   "metadata": {},
   "source": [
    "### Question 8\n",
    "\n",
    "Write a function that extracts the connected components of a graph."
   ]
  },
  {
   "cell_type": "code",
   "execution_count": 20,
   "metadata": {},
   "outputs": [],
   "source": [
    "def no_zero(matrix):\n",
    "    \n",
    "    i=0\n",
    "    while i < len(matrix):\n",
    "        if not any(matrix[i]):\n",
    "            matrix = np.delete(matrix, i, 0)\n",
    "            matrix = np.delete(matrix, i, 1)\n",
    "        else:\n",
    "            i+=1\n",
    "    \n",
    "    \n",
    "    return matrix"
   ]
  },
  {
   "cell_type": "code",
   "execution_count": 21,
   "metadata": {},
   "outputs": [],
   "source": [
    "def find_components(adjacency):\n",
    "    \"\"\"Find the connected components of a graph.\n",
    "    \n",
    "    Parameters\n",
    "    ----------\n",
    "    adjacency: numpy array\n",
    "        The (weighted) adjacency matrix of a graph.\n",
    "    \n",
    "    Returns\n",
    "    -------\n",
    "    list of numpy arrays\n",
    "        A list of adjacency matrices, one per connected component.\n",
    "    \"\"\"\n",
    "    \n",
    "    # Your code here.\n",
    "    n_nodes=len(adjacency)\n",
    "    components=[]\n",
    "    # We declare an array of size n_nodes which contains for each node its component index,\n",
    "    # e.g. to which component it belongs\n",
    "    comp_idx=np.full(n_nodes,0)\n",
    "    component_label=1\n",
    "    \n",
    "   \n",
    "    while len(np.argwhere(comp_idx))<n_nodes:\n",
    "        comp_idx +=component_label*bfs(adjacency,np.argwhere(comp_idx==0)[0,0])\n",
    "        component_label+=1\n",
    "        \n",
    "    for i in range(1,component_label):\n",
    "        matrix=adjacency@np.diag(comp_idx == i)\n",
    "        matrix=no_zero(matrix)\n",
    "        components.append(matrix)\n",
    "    \n",
    "    return components"
   ]
  },
  {
   "cell_type": "markdown",
   "metadata": {},
   "source": [
    "How many connected components is your network composed of? What is the size of the largest connected component? Run the ``find_components`` function to determine your answer. "
   ]
  },
  {
   "cell_type": "code",
   "execution_count": 22,
   "metadata": {},
   "outputs": [],
   "source": [
    "# Your code here.\n",
    "mat = np.array([[0, 1, 0, 1, 0],\n",
    "                [1, 0, 0, 0, 0],\n",
    "                [0, 0, 0, 0, 1],\n",
    "                [1, 0, 0, 0, 0],\n",
    "                [0, 0, 1, 0, 0] ])\n",
    "\n",
    "comps=find_components(adjacency)"
   ]
  },
  {
   "cell_type": "markdown",
   "metadata": {},
   "source": [
    "### Question 9\n",
    "\n",
    "Write a function that takes as input the adjacency matrix and a node (`source`) and returns the length of the shortest path between that node and all nodes in the graph using Dijkstra's algorithm. **For the purposes of this assignment we are interested in the hop distance between nodes, not in the sum of weights. **\n",
    "\n",
    "Hint: You might want to mask the adjacency matrix in the function ``compute_shortest_path_lengths`` in order to make sure you obtain a binary adjacency matrix. "
   ]
  },
  {
   "cell_type": "code",
   "execution_count": 23,
   "metadata": {},
   "outputs": [],
   "source": [
    "def compute_shortest_path_lengths(adjacency, source):\n",
    "    \"\"\"Compute the shortest path length between a source node and all nodes.\n",
    "    \n",
    "    Parameters\n",
    "    ----------\n",
    "    adjacency: numpy array\n",
    "        The (weighted) adjacency matrix of a graph.\n",
    "    source: int\n",
    "        The source node. A number between 0 and n_nodes-1.\n",
    "    \n",
    "    Returns\n",
    "    -------\n",
    "    list of ints\n",
    "        The length of the shortest path from source to all nodes. Returned list should be of length n_nodes.\n",
    "    \"\"\"\n",
    "    # \n",
    "    # Your code here.\n",
    "    \n",
    "    # Firstly, we transform the matrix to and unweighted one\n",
    "    adjacency=np.where(adjacency != 0, 1, 0)\n",
    "    n_nodes=adjacency.shape[0]\n",
    "    #print(n_nodes)\n",
    "    shortest_path_lengths=np.full(n_nodes,np.inf)\n",
    "    previous_node=np.full(n_nodes,None)\n",
    "    shortest_path_lengths[source]=0\n",
    "    \n",
    "    unvis_nodes=list(range(n_nodes))\n",
    "    #del unvis_nodes[0] \n",
    "    #print(unvis_nodes)\n",
    "    \n",
    "    #while there are nodes that we haven't visited\n",
    "    while unvis_nodes:\n",
    "        dist_min=np.inf\n",
    "        current_node=None\n",
    "        \n",
    "        #search for the unvisited node with the shortest shortes_path_length\n",
    "        for i in range(len(unvis_nodes)):\n",
    "            if (shortest_path_lengths[unvis_nodes[i]]<dist_min): \n",
    "                #print('spl:',shortest_path_lengths[i],'dist_min:',dist_min)\n",
    "                dist_min=shortest_path_lengths[unvis_nodes[i]]\n",
    "                #print('salut')\n",
    "                current_node=unvis_nodes[i]\n",
    "        # if every node of unvis_nodes has infinite distance in spl, hence it is not in the connected\n",
    "        # component, we arbitrarly take the first of the unvis_nodes\n",
    "        if current_node==None:\n",
    "            #print('salut')\n",
    "            current_node=unvis_nodes[0]\n",
    "        # current_node=np.argmin[shortest_path_lengths]\n",
    "        # print(current_node)\n",
    "        \n",
    "        unvis_nodes.remove(current_node) #use del ?,   \n",
    "        # print(unvis_nodes)\n",
    "        unvis_neighbours=np.intersect1d(np.argwhere(adjacency[current_node]),np.asarray(unvis_nodes))\n",
    "        #print('voisins:',np.argwhere(adjacency[current_node]))\n",
    "        for i in range(len(unvis_neighbours)):\n",
    "            alt_path=shortest_path_lengths[current_node]+adjacency[current_node][unvis_neighbours[i]]\n",
    "            #print('alt_path:',alt_path,'node:',neighbours[i])\n",
    "            #print('spl:',shortest_path_lengths[neighbours[i]])\n",
    "            if (shortest_path_lengths[unvis_neighbours[i]]>alt_path):\n",
    "                shortest_path_lengths[unvis_neighbours[i]]=alt_path\n",
    "                previous_node[unvis_neighbours[i]]=current_node\n",
    "            #print('here:',current_node)\n",
    "        #if len(unvis_nodes)<7:\n",
    "        #print(shortest_path_lengths)           \n",
    "    \n",
    "    return shortest_path_lengths"
   ]
  },
  {
   "cell_type": "code",
   "execution_count": 24,
   "metadata": {},
   "outputs": [
    {
     "data": {
      "text/plain": [
       "array([], shape=(0, 1), dtype=int64)"
      ]
     },
     "execution_count": 24,
     "metadata": {},
     "output_type": "execute_result"
    }
   ],
   "source": [
    "spl=compute_shortest_path_lengths(adjacency,0)\n",
    "#len(np.where(adjacency[0]))\n",
    "np.argwhere(spl==np.inf)"
   ]
  },
  {
   "cell_type": "markdown",
   "metadata": {},
   "source": [
    "### Question 10\n",
    "\n",
    "The diameter of the graph is the length of the longest shortest path between any pair of nodes. Use the above developed function to compute the diameter of the graph (or the diameter of the largest connected component of the graph if the graph is not connected). If your graph (or largest connected component) is very large, computing the diameter will take very long. In that case downsample your graph so that it has 1.000 nodes. There are many ways to reduce the size of a graph. For the purposes of this milestone you can chose to randomly select 1.000 nodes. "
   ]
  },
  {
   "cell_type": "code",
   "execution_count": 25,
   "metadata": {},
   "outputs": [
    {
     "name": "stdout",
     "output_type": "stream",
     "text": [
      "6.0\n"
     ]
    }
   ],
   "source": [
    "# Your code here.\n",
    "diameter=0\n",
    "\n",
    "for i in range(n_nodes):\n",
    "    diameter=max(max(compute_shortest_path_lengths(adjacency,i)),diameter)\n",
    "print(diameter)"
   ]
  },
  {
   "cell_type": "code",
   "execution_count": null,
   "metadata": {},
   "outputs": [],
   "source": []
  },
  {
   "cell_type": "markdown",
   "metadata": {},
   "source": [
    "### Question 11\n",
    "\n",
    "Write a function that takes as input the adjacency matrix, a path length, and two nodes (`source` and `target`), and returns the number of paths of the given length between them."
   ]
  },
  {
   "cell_type": "code",
   "execution_count": 26,
   "metadata": {},
   "outputs": [],
   "source": [
    "def compute_paths(adjacency, source, target, length):\n",
    "    \"\"\"Compute the number of paths of a given length between a source and target node.\n",
    "    \n",
    "    Parameters\n",
    "    ----------\n",
    "    adjacency: numpy array\n",
    "        The (weighted) adjacency matrix of a graph.\n",
    "    source: int\n",
    "        The source node. A number between 0 and n_nodes-1.\n",
    "    target: int\n",
    "        The target node. A number between 0 and n_nodes-1.\n",
    "    length: int\n",
    "        The path length to be considered.\n",
    "    \n",
    "    Returns\n",
    "    -------\n",
    "    int\n",
    "        The number of paths.\n",
    "    \"\"\"\n",
    "    \n",
    "    # Your code here.\n",
    "    adj_bin=np.where(adjacency != 0, 1, 0)\n",
    "    #print(adj_bin[:10,:10])\n",
    "    pow_adj=adj_bin\n",
    "    ##compute adj_bin to the power length\n",
    "    if length==1:\n",
    "        n_paths=adj_bin[source,target]\n",
    "    else:    \n",
    "        for i in range(length-1):\n",
    "            pow_adj=np.matmul(pow_adj,adj_bin)\n",
    "        n_paths=pow_adj[source,target]   \n",
    "    \n",
    "    return n_paths"
   ]
  },
  {
   "cell_type": "markdown",
   "metadata": {},
   "source": [
    "Test your function on 5 pairs of nodes, with different lengths."
   ]
  },
  {
   "cell_type": "code",
   "execution_count": 27,
   "metadata": {},
   "outputs": [
    {
     "name": "stdout",
     "output_type": "stream",
     "text": [
      "0\n",
      "4\n",
      "819\n",
      "10\n",
      "344391\n"
     ]
    }
   ],
   "source": [
    "print(compute_paths(adjacency, 0, 10, 1))\n",
    "print(compute_paths(adjacency, 0, 10, 2))\n",
    "print(compute_paths(adjacency, 0, 10, 3))\n",
    "print(compute_paths(adjacency, 23, 67, 2))\n",
    "print(compute_paths(adjacency, 15, 93, 4))"
   ]
  },
  {
   "cell_type": "markdown",
   "metadata": {},
   "source": [
    "### Question 12\n",
    "\n",
    "How many paths of length 3 are there in your graph? Hint: calling the `compute_paths` function on every pair of node is not an efficient way to do it."
   ]
  },
  {
   "cell_type": "code",
   "execution_count": 52,
   "metadata": {},
   "outputs": [
    {
     "data": {
      "text/plain": [
       "3364928061.0"
      ]
     },
     "execution_count": 52,
     "metadata": {},
     "output_type": "execute_result"
    }
   ],
   "source": [
    "# Your code here.\n",
    "## sum elements of A^3 divided by 2\n",
    "\n",
    "adj_carr=np.matmul(adj_bin,adj_bin)\n",
    "adj_cub=np.matmul(adj_carr,adj_bin)\n",
    "adj_cub[:15,:15]\n",
    "sum=np.int64((np.sum(np.sum(np.int64(adj_cub)))))/2\n",
    "sum\n"
   ]
  },
  {
   "cell_type": "markdown",
   "metadata": {},
   "source": [
    "### Question 13\n",
    "\n",
    "Write a function that takes as input the adjacency matrix of your graph (or of the largest connected component of your graph) and a node and returns the clustering coefficient of that node. "
   ]
  },
  {
   "cell_type": "code",
   "execution_count": 29,
   "metadata": {},
   "outputs": [],
   "source": [
    "def compute_clustering_coefficient(adjacency, node):\n",
    "    \"\"\"Compute the clustering coefficient of a node.\n",
    "    \n",
    "    Parameters\n",
    "    ----------\n",
    "    adjacency: numpy array\n",
    "        The (weighted) adjacency matrix of a graph.\n",
    "    node: int\n",
    "        The node whose clustering coefficient will be computed. A number between 0 and n_nodes-1.\n",
    "    \n",
    "    Returns\n",
    "    -------\n",
    "    float\n",
    "        The clustering coefficient of the node. A number between 0 and 1.\n",
    "    \"\"\"\n",
    "    \n",
    "    # Your code here.\n",
    "    Li = 0 # number of links between the neighbors of node on which we want to calculate the clustering coeff.\n",
    "    ki_list = [] # list of neighbors of node on which we want to calculate the clustering coeff.\n",
    "\n",
    "    for i in range(len(adjacency)):\n",
    "        if (adjacency[node,i] != 0 and i != node): # find neighboring nodes\n",
    "            ki_list.append(i) # store neighboring nodes\n",
    "            \n",
    "    # if the number of neighbors is equal to or less than 1, the clustering coefficient is 0 :       \n",
    "    if (len(ki_list))<=1:\n",
    "        return 0.0\n",
    "    else :\n",
    "        for i in range(len(ki_list)): # for every neighbors\n",
    "            for j in ki_list:\n",
    "                if ((adjacency[ki_list[i],j] != 0) and (j in ki_list[i:])): # count every links between the neighbors only once\n",
    "                    Li += 1 # no difference in the execution when giving unweighted or weighted adjacency matrix\n",
    "        clustering_coefficient = (2*Li)/(len(ki_list)*(len(ki_list) - 1)) # formula\n",
    "    \n",
    "    return clustering_coefficient"
   ]
  },
  {
   "cell_type": "markdown",
   "metadata": {},
   "source": [
    "### Question 14\n",
    "\n",
    "What is the average clustering coefficient of your graph (or of the largest connected component of your graph if your graph is disconnected)? Use the function ``compute_clustering_coefficient`` to determine your answer."
   ]
  },
  {
   "cell_type": "code",
   "execution_count": 34,
   "metadata": {},
   "outputs": [],
   "source": [
    "average_clustering_coeff = 0.\n",
    "for i in range(n_nodes):\n",
    "    average_clustering_coeff += compute_clustering_coefficient(adjacency, i)/n_nodes"
   ]
  },
  {
   "cell_type": "code",
   "execution_count": 36,
   "metadata": {},
   "outputs": [],
   "source": [
    "graph= nx.from_numpy_array(adjacency)"
   ]
  },
  {
   "cell_type": "code",
   "execution_count": null,
   "metadata": {},
   "outputs": [],
   "source": [
    "nx.draw_spectral(graph)"
   ]
  },
  {
   "cell_type": "code",
   "execution_count": null,
   "metadata": {},
   "outputs": [],
   "source": [
    "nx.draw_spring(graph)"
   ]
  },
  {
   "cell_type": "code",
   "execution_count": 37,
   "metadata": {},
   "outputs": [],
   "source": [
    "nx.write_gexf(graph,'movies_graph.gexf')"
   ]
  },
  {
   "cell_type": "code",
   "execution_count": 35,
   "metadata": {},
   "outputs": [
    {
     "name": "stdout",
     "output_type": "stream",
     "text": [
      "0.2143334404916158\n"
     ]
    }
   ],
   "source": [
    "print(average_clustering_coeff)"
   ]
  },
  {
   "cell_type": "code",
   "execution_count": null,
   "metadata": {},
   "outputs": [],
   "source": []
  }
 ],
 "metadata": {
  "kernelspec": {
   "display_name": "Python 3",
   "language": "python",
   "name": "python3"
  },
  "language_info": {
   "codemirror_mode": {
    "name": "ipython",
    "version": 3
   },
   "file_extension": ".py",
   "mimetype": "text/x-python",
   "name": "python",
   "nbconvert_exporter": "python",
   "pygments_lexer": "ipython3",
   "version": "3.6.5"
  }
 },
 "nbformat": 4,
 "nbformat_minor": 2
}
