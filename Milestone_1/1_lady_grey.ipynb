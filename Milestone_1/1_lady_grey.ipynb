{
 "cells": [
  {
   "cell_type": "markdown",
   "metadata": {},
   "source": [
    "# NTDS'18 milestone 1: network collection and properties\n",
    "[Effrosyni Simou](https://lts4.epfl.ch/simou), [EPFL LTS4](https://lts4.epfl.ch)"
   ]
  },
  {
   "cell_type": "markdown",
   "metadata": {},
   "source": [
    "## Students\n",
    "\n",
    "* Team: `10`\n",
    "* Students: `Fluhr Hugo, Donzier Paul, de Goumoëns Frédéric, Cionca Alexandre`\n",
    "* Dataset: `TMDb, tmdb_5000_movies.csv and tmdb_5000_credits.csv`"
   ]
  },
  {
   "cell_type": "markdown",
   "metadata": {},
   "source": [
    "## Rules\n",
    "\n",
    "* Milestones have to be completed by teams. No collaboration between teams is allowed.\n",
    "* Textual answers shall be short. Typically one to three sentences.\n",
    "* Code has to be clean.\n",
    "* You cannot import any other library than we imported.\n",
    "* When submitting, the notebook is executed and the results are stored. I.e., if you open the notebook again it should show numerical results and plots. We won't be able to execute your notebooks.\n",
    "* The notebook is re-executed from a blank state before submission. That is to be sure it is reproducible. You can click \"Kernel\" then \"Restart & Run All\" in Jupyter."
   ]
  },
  {
   "cell_type": "markdown",
   "metadata": {},
   "source": [
    "## Objective "
   ]
  },
  {
   "cell_type": "markdown",
   "metadata": {},
   "source": [
    "The purpose of this milestone is to start getting acquainted to the network that you will use for this class. In the first part of the milestone you will import your data using [Pandas](http://pandas.pydata.org) and you will create the adjacency matrix using [Numpy](http://www.numpy.org). This part is project specific. In the second part you will have to compute some basic properties of your network. **For the computation of the properties you are only allowed to use the packages that have been imported in the cell below.** You are not allowed to use any graph-specific toolboxes for this milestone (such as networkx and PyGSP). Furthermore, the aim is not to blindly compute the network properties, but to also start to think about what kind of network you will be working with this semester. "
   ]
  },
  {
   "cell_type": "code",
   "execution_count": 1,
   "metadata": {},
   "outputs": [],
   "source": [
    "import numpy as np\n",
    "import pandas as pd\n",
    "import matplotlib.pyplot as plt\n",
    "import json"
   ]
  },
  {
   "cell_type": "markdown",
   "metadata": {},
   "source": [
    "## Part 1 - Import your data and manipulate them. "
   ]
  },
  {
   "cell_type": "markdown",
   "metadata": {},
   "source": [
    "###  A. Load your data in a Panda dataframe."
   ]
  },
  {
   "cell_type": "markdown",
   "metadata": {},
   "source": [
    "First, you should define and understand what are your nodes, what features you have and what are your labels. Please provide below a Panda dataframe where each row corresponds to a node with its features and labels. For example, in the the case of the Free Music Archive (FMA) Project, each row of the dataframe would be of the following form:\n",
    "\n",
    "\n",
    "| Track   |  Feature 1  | Feature 2 | . . . | Feature 518|  Label 1 |  Label 2 |. . .|Label 16|\n",
    "|:-------:|:-----------:|:---------:|:-----:|:----------:|:--------:|:--------:|:---:|:------:|\n",
    "|         |             |           |       |            |          |          |     |        |\n",
    "\n",
    "It is possible that in some of the projects either the features or the labels are not available. This is OK, in that case just make sure that you create a dataframe where each of the rows corresponds to a node and its associated features or labels."
   ]
  },
  {
   "cell_type": "code",
   "execution_count": 2,
   "metadata": {
    "scrolled": true
   },
   "outputs": [
    {
     "name": "stdout",
     "output_type": "stream",
     "text": [
      "<class 'str'>\n"
     ]
    }
   ],
   "source": [
    "# DATA LOADING\n",
    "\n",
    "# We load both datasets, credits contains the casts of the movies and movies contains movie features\n",
    "credits=pd.read_csv('../../dataset/TMDb/tmdb_5000_credits.csv')\n",
    "movies=pd.read_csv('../../dataset/TMDb/tmdb_5000_movies.csv')\n",
    "print(type(credits.cast[0]))\n",
    "# The columns cast and crew of the dataset credits are strings, we use json.loads to convert into dict\n",
    "json_columns = ['cast']\n",
    "for column in json_columns:\n",
    "     credits[column] = credits[column].apply(json.loads)\n",
    "\n",
    "json_columns = ['keywords']\n",
    "for column in json_columns:\n",
    "     movies[column] = movies[column].apply(json.loads)"
   ]
  },
  {
   "cell_type": "code",
   "execution_count": 3,
   "metadata": {
    "scrolled": false
   },
   "outputs": [],
   "source": [
    "# DATA FILTERING\n",
    "\n",
    "# Here we fuse the 2 datasets into one and drop all columns useless for this milestone\n",
    "movie_df=credits.join(movies, rsuffix='other')"
   ]
  },
  {
   "cell_type": "code",
   "execution_count": 4,
   "metadata": {
    "scrolled": false
   },
   "outputs": [],
   "source": [
    "#movie_df=movie_df.drop(columns=['budget','overview','original_language','vote_average','crew',\n",
    "#                            'popularity','homepage','id','keywords','original_title',\n",
    "#                            'production_companies','production_countries','release_date',\n",
    "#                            'revenue','runtime','spoken_languages','tagline','titleother'])\n",
    "\n",
    "# To reduce the dataset, we filter unreleased movies and movies with a vote count inferior to 100\n",
    "movie_df=movie_df[movie_df.status=='Released']\n",
    "movie_df=movie_df[movie_df.vote_count >=100]\n",
    "movie_df=movie_df[movie_df.original_language == 'en']\n",
    "#movie_df=movie_df.drop(columns=['vote_count','status'])\n",
    "\n",
    "# Reseting the index after filtering\n",
    "movie_df=movie_df.reset_index(drop=True)"
   ]
  },
  {
   "cell_type": "code",
   "execution_count": 5,
   "metadata": {},
   "outputs": [
    {
     "name": "stdout",
     "output_type": "stream",
     "text": [
      "<class 'list'>\n"
     ]
    }
   ],
   "source": [
    "# Creating empty column which will be filled with the id of the actors playing in each movie\n",
    "movie_df['actors_id']=\"\"\n",
    "movie_df['keywords_key']=\"\"\n",
    "\n",
    "# Extraction of actors ID from the cast dictionnary and adding them to the added column\n",
    "for i in range(len(movie_df.title)):\n",
    "    strs=[]\n",
    "    for ii in range(len(movie_df.cast[i])):\n",
    "        strs.append(movie_df.cast[i][ii].get('id'))\n",
    "    movie_df.at[i,'actors_id']=strs\n",
    "    \n",
    "    for ii in range(len(movie_df.keywords[i])):\n",
    "        strs.append(movie_df.keywords[i][ii].get('name'))\n",
    "    movie_df.at[i,'keywords_key']=strs\n",
    "\n",
    "#The \"cast\" column is no longer needed\n",
    "#movie_df = movie_df.drop(columns=['cast'])\n",
    "\n",
    "# Preview of the Milestone 1 dataframe\n",
    "print(type(movie_df.actors_id[0]))"
   ]
  },
  {
   "cell_type": "markdown",
   "metadata": {},
   "source": [
    "### B. Create the adjacency matrix of your network."
   ]
  },
  {
   "cell_type": "markdown",
   "metadata": {},
   "source": [
    "Remember that there are edges connecting the attributed nodes that you organized in the dataframe above. The connectivity of the network is captured by the adjacency matrix $W$. If $N$ is the number of nodes, the adjacency matrix is an $N \\times N$ matrix where the value of $W(i,j)$ is the weight of the edge connecting node $i$ to node $j$.  \n",
    "\n",
    "There are two possible scenarios for your adjacency matrix construction, as you already learned in the tutorial by Benjamin:\n",
    "\n",
    "1) The edges are given to you explicitly. In this case you should simply load the file containing the edge information and parse it in order to create your adjacency matrix. See how to do that in the  [graph from edge list]() demo.\n",
    "\n",
    "2) The edges are not given to you. In that case you will have to create a feature graph. In order to do that you will have to chose a distance that will quantify how similar two nodes are based on the values in their corresponding feature vectors. In the [graph from features]() demo Benjamin showed you how to build feature graphs when using Euclidean distances between feature vectors. Be curious and explore other distances as well! For instance, in the case of high-dimensional feature vectors, you might want to consider using the cosine distance. Once you compute the distances between your nodes you will have a fully connected network. Do not forget to sparsify by keeping the most important edges in your network.\n",
    "\n",
    "Follow the appropriate steps for the construction of the adjacency matrix of your network and provide it in the Numpy array ``adjacency`` below: "
   ]
  },
  {
   "cell_type": "code",
   "execution_count": 6,
   "metadata": {},
   "outputs": [
    {
     "name": "stdout",
     "output_type": "stream",
     "text": [
      "42.0\n"
     ]
    }
   ],
   "source": [
    "# Number of nodes in the network\n",
    "n_nodes = len(movie_df)\n",
    "\n",
    "# The adjacency matrix contains the number of common actors for each pair of nodes (movies)\n",
    "# The matrix is set to be symmetric since the relation of shared actor is undirected\n",
    "adjacency=np.zeros((n_nodes,n_nodes), dtype=float)\n",
    "\n",
    "for i in range(len(movie_df.index)):\n",
    "    for ii in range(i+1,(len(movie_df.index))):\n",
    "            adjacency[i,ii]=adjacency[ii,i]=len(set(movie_df.keywords_key[i]).intersection(set(movie_df.keywords_key[ii])))\n",
    "\n",
    "print(adjacency.max())\n",
    "\n",
    "# We normalize by the maximum number of shared actors between two movies found in the dataset\n",
    "adjacency = np.divide(adjacency,adjacency.max())\n",
    "adjacency_2 = np.divide(adjacency,10/42)\n",
    "adjacency_2[adjacency_2 > 1] = 1"
   ]
  },
  {
   "cell_type": "code",
   "execution_count": 7,
   "metadata": {},
   "outputs": [
    {
     "data": {
      "text/plain": [
       "array([[0.        , 0.        , 0.        , 0.        , 0.07142857],\n",
       "       [0.        , 0.        , 0.02380952, 0.02380952, 0.        ],\n",
       "       [0.        , 0.02380952, 0.        , 0.        , 0.02380952],\n",
       "       [0.        , 0.02380952, 0.        , 0.        , 0.        ],\n",
       "       [0.07142857, 0.        , 0.02380952, 0.        , 0.        ]])"
      ]
     },
     "execution_count": 7,
     "metadata": {},
     "output_type": "execute_result"
    }
   ],
   "source": [
    "adjacency_2[adjacency_2 < 0.2] = 0\n",
    "adjacency[:5,:5]"
   ]
  },
  {
   "cell_type": "code",
   "execution_count": 8,
   "metadata": {},
   "outputs": [
    {
     "data": {
      "text/plain": [
       "3018"
      ]
     },
     "execution_count": 8,
     "metadata": {},
     "output_type": "execute_result"
    }
   ],
   "source": [
    "# We see from the adjacency matrix that there are some movies that don't have any connections to any other movies,\n",
    "# these nodes don't present any interest to us so we remove them from both the dataframe and the adjacency matrix\n",
    "i=0\n",
    "while i < len(adjacency):\n",
    "    if not any(adjacency[i]):\n",
    "        adjacency = np.delete(adjacency, i, 0)\n",
    "        adjacency = np.delete(adjacency, i, 1)\n",
    "        movie_df=movie_df.drop([i])\n",
    "        movie_df=movie_df.reset_index(drop=True)\n",
    "    else:\n",
    "        i+=1\n",
    "        \n",
    "# We need to update n_nodes since we have dropped some movies\n",
    "n_nodes=len(adjacency)\n",
    "n_nodes"
   ]
  },
  {
   "cell_type": "code",
   "execution_count": 9,
   "metadata": {},
   "outputs": [
    {
     "data": {
      "text/plain": [
       "2970"
      ]
     },
     "execution_count": 9,
     "metadata": {},
     "output_type": "execute_result"
    }
   ],
   "source": [
    "# We see from the adjacency matrix that there are some movies that don't have any connections to any other movies,\n",
    "# these nodes don't present any interest to us so we remove them from both the dataframe and the adjacency matrix\n",
    "i=0\n",
    "while i < len(adjacency_2):\n",
    "    if not any(adjacency_2[i]):\n",
    "        adjacency_2 = np.delete(adjacency_2, i, 0)\n",
    "        adjacency_2 = np.delete(adjacency_2, i, 1)\n",
    "        movie_df=movie_df.drop([i])\n",
    "        movie_df=movie_df.reset_index(drop=True)\n",
    "    else:\n",
    "        i+=1\n",
    "        \n",
    "# We need to update n_nodes since we have dropped some movies\n",
    "n_nodes_2=len(adjacency_2)\n",
    "n_nodes_2"
   ]
  },
  {
   "cell_type": "code",
   "execution_count": 10,
   "metadata": {},
   "outputs": [],
   "source": [
    "#movie_df=movie_df.drop(columns=[''])\n",
    "movie_df.to_csv('saved_features_ext.csv', encoding='utf-8')\n",
    "#movie_df"
   ]
  },
  {
   "cell_type": "markdown",
   "metadata": {},
   "source": [
    "## Part 2"
   ]
  },
  {
   "cell_type": "markdown",
   "metadata": {},
   "source": [
    "Execute the cell below to plot the (weighted) adjacency matrix of your network."
   ]
  },
  {
   "cell_type": "code",
   "execution_count": null,
   "metadata": {},
   "outputs": [],
   "source": [
    "# Dots represent connections between movies regardless of their weight\n",
    "plt.figure(figsize=(10,10))\n",
    "plt.spy(adjacency, markersize=0.1)\n",
    "plt.title('adjacency matrix')"
   ]
  },
  {
   "cell_type": "markdown",
   "metadata": {},
   "source": [
    "### Question 1\n",
    "\n",
    "What is the maximum number of links $L_{max}$ in a network with $N$ nodes (where $N$ is the number of nodes in your network)? How many links $L$ are there in your collected network? Comment on the sparsity of your network."
   ]
  },
  {
   "cell_type": "code",
   "execution_count": null,
   "metadata": {},
   "outputs": [],
   "source": [
    "# We find in the first lecture of the course the expression of L_max, the maximum number of links for a fully connected graph.\n",
    "# L max is equal to the number of distinct pair of nodes present in the graph\n",
    "L_max=int(n_nodes*(n_nodes-1)/2)\n",
    "print('L_max = ',L_max)\n",
    "\n",
    "# To compute L, we need to count how many non-zero elements there are in the top-right half of the adjacency matrix\n",
    "L=0\n",
    "for i in range(adjacency.shape[0]):\n",
    "    for ii in range(i,adjacency.shape[1]):\n",
    "        L+=(adjacency[i][ii]!=0)\n",
    "print('L =',L)\n",
    "\n",
    "print('Density:', L/L_max)"
   ]
  },
  {
   "cell_type": "code",
   "execution_count": null,
   "metadata": {},
   "outputs": [],
   "source": [
    "# We find in the first lecture of the course the expression of L_max, the maximum number of links for a fully connected graph.\n",
    "# L max is equal to the number of distinct pair of nodes present in the graph\n",
    "L_max=int(n_nodes_2*(n_nodes_2-1)/2)\n",
    "print('L_max = ',L_max)\n",
    "\n",
    "# To compute L, we need to count how many non-zero elements there are in the top-right half of the adjacency matrix\n",
    "L=0\n",
    "for i in range(adjacency_2.shape[0]):\n",
    "    for ii in range(i,adjacency_2.shape[1]):\n",
    "        L+=(adjacency_2[i][ii]!=0)\n",
    "print('L =',L)\n",
    "\n",
    "print('Density:', L/L_max)"
   ]
  },
  {
   "cell_type": "markdown",
   "metadata": {},
   "source": [
    "$L_{max}$ for our graph which has 3138 nodes is equal to 4'921'953\n",
    "\n",
    "In our graph, there are 163'621 links\n",
    "\n",
    "We find a density: $L/L_{max}$ = 0.033, showing that our graph, much like many real graphs, is sparse."
   ]
  },
  {
   "cell_type": "markdown",
   "metadata": {},
   "source": [
    "### Question 2\n",
    "\n",
    "Is your graph directed or undirected? If it is directed, convert it to an undirected graph by symmetrizing the adjacency matrix."
   ]
  },
  {
   "cell_type": "markdown",
   "metadata": {},
   "source": [
    "Our graph is undirected. The links between movies represent the number of actors they share which is an undirected relation."
   ]
  },
  {
   "cell_type": "markdown",
   "metadata": {},
   "source": [
    "### Question 3\n",
    "\n",
    "In the cell below save the features dataframe and the **symmetrized** adjacency matrix. You can use the Pandas ``to_csv`` to save the ``features`` and Numpy's ``save`` to save the ``adjacency``. We will reuse those in the following milestones."
   ]
  },
  {
   "cell_type": "code",
   "execution_count": null,
   "metadata": {},
   "outputs": [],
   "source": [
    "# Saving of both dataframe and adjacency matrix\n",
    "movie_df.to_csv('saved_features.csv', sep='\\t', encoding='utf-8')\n",
    "np.save('saved_adjacency',adjacency)\n",
    "np.save('saved_adjacency_2',adjacency_2)\n",
    "movie_df.title[225]"
   ]
  },
  {
   "cell_type": "markdown",
   "metadata": {},
   "source": [
    "### Question 4\n",
    "\n",
    "Are the edges of your graph weighted?"
   ]
  },
  {
   "cell_type": "markdown",
   "metadata": {},
   "source": [
    "Yes, the edges are weighted, the weight is proportional to the number of shared actors.\n",
    "Since we have normalized the weights, they represent a proportion of how many actors two movies share divided by the maximum of shared actors between two movies found in the dataset."
   ]
  },
  {
   "cell_type": "markdown",
   "metadata": {},
   "source": [
    "### Question 5\n",
    "\n",
    "What is the degree distibution of your network? "
   ]
  },
  {
   "cell_type": "code",
   "execution_count": null,
   "metadata": {},
   "outputs": [],
   "source": [
    "# We create an array containing the degree of each node\n",
    "degree = np.sum(adjacency,0)\n",
    "degree_2 = np.sum(adjacency_2,0)\n",
    "\n",
    "# Here we verify that there are as many elements in the degree array as there are nodes (movies) in the graph\n",
    "assert len(degree) == n_nodes"
   ]
  },
  {
   "cell_type": "markdown",
   "metadata": {},
   "source": [
    "Execute the cell below to see the histogram of the degree distribution."
   ]
  },
  {
   "cell_type": "code",
   "execution_count": null,
   "metadata": {},
   "outputs": [],
   "source": [
    "weights = np.ones_like(degree) / float(n_nodes)\n",
    "weights_2 = np.ones_like(degree_2) / float(n_nodes)\n",
    "plt.subplot(211)\n",
    "plt.hist(degree, weights=weights, bins=30);\n",
    "plt.subplot(212)\n",
    "plt.hist(degree_2,weights=weights_2, bins=30);"
   ]
  },
  {
   "cell_type": "markdown",
   "metadata": {},
   "source": [
    "What is the average degree?"
   ]
  },
  {
   "cell_type": "code",
   "execution_count": null,
   "metadata": {},
   "outputs": [],
   "source": [
    "average_deg=np.divide(np.sum(degree),n_nodes)\n",
    "print(average_deg)"
   ]
  },
  {
   "cell_type": "markdown",
   "metadata": {},
   "source": [
    "### Question 6\n",
    "\n",
    "Comment on the degree distribution of your network."
   ]
  },
  {
   "cell_type": "markdown",
   "metadata": {},
   "source": [
    "We see from the degree distribution histogram that our graph follows a Poisson degree distribution. Unlike most real networks that follow a power law, our network has fewer weakly connected nodes. This is in part due to the fact that we discarded nodes with a degree of zero when filtering our data."
   ]
  },
  {
   "cell_type": "markdown",
   "metadata": {},
   "source": [
    "### Question 7\n",
    "\n",
    "Write a function that takes as input the adjacency matrix of a graph and determines whether the graph is connected or not."
   ]
  },
  {
   "cell_type": "code",
   "execution_count": null,
   "metadata": {},
   "outputs": [],
   "source": [
    "# We implement a version of the BFS algorithm in an additional function that we will need for both questions 7 and 8\n",
    "\n",
    "def bfs(adjacency, source_node):\n",
    "    # Explored is an array where explored[a_certain_node]= 0 when this a_certain_node cannot be reached by source node\n",
    "    # or = 1 when this a_certain_node can be reached\n",
    "    n_nodes=len(adjacency)\n",
    "    explored=np.full(n_nodes,0)\n",
    "    # Store nodes to explore in a list\n",
    "    to_explore = [source_node]\n",
    "    \n",
    "    # The source node is already explored\n",
    "    explored[source_node] = 1  \n",
    "    \n",
    "    # Stay in loop while there are still nodes to explore\n",
    "    while to_explore:\n",
    "       # Pop first node frome the queue and add it to to the explored nodes\n",
    "        current_node = to_explore.pop(0)\n",
    "        explored[current_node] = 1\n",
    "        # Copy the line of the matrix corresponding to the current node to see its connections\n",
    "        neighbours = np.argwhere(adjacency[current_node]).flatten()\n",
    "        \n",
    "        # Set the neighbours of current_node to be explored\n",
    "        for i in range(len(neighbours)):\n",
    "            if not explored[neighbours[i]]:\n",
    "                to_explore.append(neighbours[i])\n",
    "                explored[neighbours[i]]=1\n",
    "    \n",
    "    return explored"
   ]
  },
  {
   "cell_type": "code",
   "execution_count": null,
   "metadata": {},
   "outputs": [],
   "source": [
    "def connected_graph(adjacency):\n",
    "    \"\"\"Determines whether a graph is connected.\n",
    "    \n",
    "    Parameters\n",
    "    ----------\n",
    "    adjacency: numpy array\n",
    "        The (weighted) adjacency matrix of a graph.\n",
    "    \n",
    "    Returns\n",
    "    -------\n",
    "    bool\n",
    "        True if the graph is connected, False otherwise.\n",
    "    \"\"\"\n",
    "    \n",
    "    # We call the previously implemented bfs function and check if the number of reached nodes starting from the\n",
    "    # first node is equal to the number of nodes in the graph\n",
    "    n_nodes=len(adjacency)\n",
    "    connected = (len(np.argwhere(bfs(adjacency,0)))==n_nodes)\n",
    "    \n",
    "    return connected"
   ]
  },
  {
   "cell_type": "markdown",
   "metadata": {},
   "source": [
    "Is your graph connected? Run the ``connected_graph`` function to determine your answer."
   ]
  },
  {
   "cell_type": "code",
   "execution_count": null,
   "metadata": {},
   "outputs": [],
   "source": [
    "connected_graph(adjacency)"
   ]
  },
  {
   "cell_type": "markdown",
   "metadata": {},
   "source": [
    "### Question 8\n",
    "\n",
    "Write a function that extracts the connected components of a graph."
   ]
  },
  {
   "cell_type": "code",
   "execution_count": null,
   "metadata": {},
   "outputs": [],
   "source": [
    "# Declaring a function that removes both column and row full of 0s from a matrix (numpy array)\n",
    "# This function is used in find_components()\n",
    "def no_zero(matrix):\n",
    "    \n",
    "    i=0\n",
    "    while i < len(matrix):\n",
    "        if not any(matrix[i]):\n",
    "            matrix = np.delete(matrix, i, 0)\n",
    "            matrix = np.delete(matrix, i, 1)\n",
    "        else:\n",
    "            i+=1\n",
    "    \n",
    "    \n",
    "    return matrix"
   ]
  },
  {
   "cell_type": "code",
   "execution_count": null,
   "metadata": {},
   "outputs": [],
   "source": [
    "def find_components(adjacency):\n",
    "    \"\"\"Find the connected components of a graph.\n",
    "    \n",
    "    Parameters\n",
    "    ----------\n",
    "    adjacency: numpy array\n",
    "        The (weighted) adjacency matrix of a graph.\n",
    "    \n",
    "    Returns\n",
    "    -------\n",
    "    list of numpy arrays\n",
    "        A list of adjacency matrices, one per connected component.\n",
    "    \"\"\"\n",
    "\n",
    "    n_nodes=len(adjacency)\n",
    "    components=[]\n",
    "    # We declare an array of size n_nodes which contains for each node its component index,\n",
    "    # e.g. to which component it belongs\n",
    "    comp_idx=np.full(n_nodes,0)\n",
    "    component_label=1\n",
    "    \n",
    "    # The implemented bfs() function returns an array of size (n_nodes,1) which contains a one if the node\n",
    "    # is reachable from source and a zero if it isn't. This is the indicator vector of the connected\n",
    "    # component containing the first node (in our case). Each iteration of the while loop labels all nodes\n",
    "    # of the i-th connected component with i.\n",
    "    while len(np.argwhere(comp_idx))<n_nodes:\n",
    "        comp_idx +=component_label*bfs(adjacency,np.argwhere(comp_idx==0)[0,0])\n",
    "        component_label+=1\n",
    "    \n",
    "    # We now extract one adjacency matrix per component and store them in the \"components\" list\n",
    "    for i in range(1,component_label):\n",
    "        matrix=adjacency@np.diag(comp_idx == i)\n",
    "        matrix=no_zero(matrix)\n",
    "        components.append(matrix)\n",
    "    \n",
    "    return components"
   ]
  },
  {
   "cell_type": "markdown",
   "metadata": {},
   "source": [
    "How many connected components is your network composed of? What is the size of the largest connected component? Run the ``find_components`` function to determine your answer. "
   ]
  },
  {
   "cell_type": "code",
   "execution_count": null,
   "metadata": {},
   "outputs": [],
   "source": [
    "comp = find_components(adjacency_2)\n",
    "size = 0\n",
    "\n",
    "print('Number of connected components:',len(comp), 'component(s)')\n",
    "\n",
    "# Finding the largest connected component\n",
    "for mat in comp:\n",
    "    if len(mat) > size:\n",
    "        biggest = mat\n",
    "        size = len(biggest)\n",
    "\n",
    "print('Size of the largest connected component:',len(biggest), 'node(s)')"
   ]
  },
  {
   "cell_type": "markdown",
   "metadata": {},
   "source": [
    "### Question 9\n",
    "\n",
    "Write a function that takes as input the adjacency matrix and a node (`source`) and returns the length of the shortest path between that node and all nodes in the graph using Dijkstra's algorithm. **For the purposes of this assignment we are interested in the hop distance between nodes, not in the sum of weights. **\n",
    "\n",
    "Hint: You might want to mask the adjacency matrix in the function ``compute_shortest_path_lengths`` in order to make sure you obtain a binary adjacency matrix. "
   ]
  },
  {
   "cell_type": "code",
   "execution_count": 11,
   "metadata": {},
   "outputs": [],
   "source": [
    "def compute_shortest_path_lengths(adjacency, source):\n",
    "    \"\"\"Compute the shortest path length between a source node and all nodes.\n",
    "    \n",
    "    Parameters\n",
    "    ----------\n",
    "    adjacency: numpy array\n",
    "        The (weighted) adjacency matrix of a graph.\n",
    "    source: int\n",
    "        The source node. A number between 0 and n_nodes-1.\n",
    "    \n",
    "    Returns\n",
    "    -------\n",
    "    list of ints\n",
    "        The length of the shortest path from source to all nodes. Returned list should be of length n_nodes.\n",
    "    \"\"\"\n",
    "\n",
    "    # Firstly, we transform the matrix to an unweighted one\n",
    "    adjacency=np.where(adjacency != 0, 1, 0)\n",
    "    n_nodes=adjacency.shape[0]\n",
    "    \n",
    "    # All shortest path lengths are initialy set to infinity\n",
    "    shortest_path_lengths=np.full(n_nodes,np.inf)\n",
    "    \n",
    "    # Distance from source node to itself is 0\n",
    "    shortest_path_lengths[source]=0\n",
    "    # Creation of a list containing the index of every unvisited_node\n",
    "    unvis_nodes=list(range(n_nodes))\n",
    "    \n",
    "    # We stay in the loop as long as there are nodes that haven't been visited\n",
    "    while unvis_nodes:\n",
    "        dist_min=np.inf\n",
    "        current_node=None\n",
    "        \n",
    "        # Search for the unvisited node with the shortest shortest_path_length and set it as current_node\n",
    "        for i in range(len(unvis_nodes)):\n",
    "            if (shortest_path_lengths[unvis_nodes[i]]<dist_min): \n",
    "                dist_min=shortest_path_lengths[unvis_nodes[i]]\n",
    "                current_node=unvis_nodes[i]\n",
    "        \n",
    "        # Remove the current_node from the unvisited_nodes\n",
    "        unvis_nodes.remove(current_node)\n",
    "        \n",
    "        # We take the neighbours of current_node that are still unvisited\n",
    "        unvis_neighbours=np.intersect1d(np.argwhere(adjacency[current_node]),np.asarray(unvis_nodes))\n",
    "        \n",
    "        # Check for each unvisited_nodes if there is an alt_path going through current_node shorter\n",
    "        # than the previously stored shortest_path_length (spl), if there is, update the spl with alt_path\n",
    "        for i in range(len(unvis_neighbours)):\n",
    "            alt_path=shortest_path_lengths[current_node]+1\n",
    "            if (shortest_path_lengths[unvis_neighbours[i]]>alt_path):\n",
    "                shortest_path_lengths[unvis_neighbours[i]]=alt_path\n",
    "    \n",
    "    # Casting into a list of int (we previously used floats to be able to have np.inf)\n",
    "    shortest_path_lengths=shortest_path_lengths.tolist()\n",
    "    shortest_path_lengths = [int(el) for el in shortest_path_lengths]\n",
    "                \n",
    "    return shortest_path_lengths"
   ]
  },
  {
   "cell_type": "code",
   "execution_count": null,
   "metadata": {},
   "outputs": [],
   "source": [
    "# Printing the first 20 shortest paths from the first node (movie)\n",
    "print(compute_shortest_path_lengths(adjacency,0)[:20])"
   ]
  },
  {
   "cell_type": "markdown",
   "metadata": {},
   "source": [
    "### Question 10\n",
    "\n",
    "The diameter of the graph is the length of the longest shortest path between any pair of nodes. Use the above developed function to compute the diameter of the graph (or the diameter of the largest connected component of the graph if the graph is not connected). If your graph (or largest connected component) is very large, computing the diameter will take very long. In that case downsample your graph so that it has 1.000 nodes. There are many ways to reduce the size of a graph. For the purposes of this milestone you can chose to randomly select 1.000 nodes. "
   ]
  },
  {
   "cell_type": "code",
   "execution_count": null,
   "metadata": {},
   "outputs": [],
   "source": [
    "# Reducing adjacency matrix size to first 1000 nodes and taking the largest connected component of this reduced matrix\n",
    "red_comp = find_components(adjacency[:1000,:1000])\n",
    "size = 0\n",
    "\n",
    "for mat in red_comp:\n",
    "    if (len(mat)>size):\n",
    "        red_mat = mat"
   ]
  },
  {
   "cell_type": "code",
   "execution_count": null,
   "metadata": {},
   "outputs": [],
   "source": [
    "diameter=0\n",
    "# Finding the longest shortest path in the graph\n",
    "for i in range(len(red_mat)):\n",
    "    diameter=max(max(compute_shortest_path_lengths(red_mat,i)),diameter)\n",
    "print(diameter)"
   ]
  },
  {
   "cell_type": "markdown",
   "metadata": {},
   "source": [
    "### Question 11\n",
    "\n",
    "Write a function that takes as input the adjacency matrix, a path length, and two nodes (`source` and `target`), and returns the number of paths of the given length between them."
   ]
  },
  {
   "cell_type": "code",
   "execution_count": null,
   "metadata": {},
   "outputs": [],
   "source": [
    "def compute_paths(adjacency, source, target, length):\n",
    "    \"\"\"Compute the number of paths of a given length between a source and target node.\n",
    "    \n",
    "    Parameters\n",
    "    ----------\n",
    "    adjacency: numpy array\n",
    "        The (weighted) adjacency matrix of a graph.\n",
    "    source: int\n",
    "        The source node. A number between 0 and n_nodes-1.\n",
    "    target: int\n",
    "        The target node. A number between 0 and n_nodes-1.\n",
    "    length: int\n",
    "        The path length to be considered.\n",
    "    \n",
    "    Returns\n",
    "    -------\n",
    "    int\n",
    "        The number of paths.\n",
    "    \"\"\"\n",
    "    \n",
    "    # Once again, taking the unweighted adjacency matrix\n",
    "    adj_bin=np.where(adjacency != 0, 1, 0)\n",
    "    pow_adj=adj_bin\n",
    "    \n",
    "    # Compute adj_bin to the power length\n",
    "    if length==1:\n",
    "        n_paths=adj_bin[source,target]\n",
    "    else:    \n",
    "        for i in range(length-1):\n",
    "            pow_adj=np.matmul(pow_adj,adj_bin)\n",
    "        n_paths=pow_adj[source,target]   \n",
    "    \n",
    "    return n_paths"
   ]
  },
  {
   "cell_type": "markdown",
   "metadata": {},
   "source": [
    "Test your function on 5 pairs of nodes, with different lengths."
   ]
  },
  {
   "cell_type": "code",
   "execution_count": null,
   "metadata": {},
   "outputs": [],
   "source": [
    "print(compute_paths(adjacency, 0, 10, 1))\n",
    "print(compute_paths(adjacency, 0, 10, 2))\n",
    "print(compute_paths(adjacency, 0, 10, 3))\n",
    "print(compute_paths(adjacency, 23, 67, 2))\n",
    "print(compute_paths(adjacency, 15, 93, 4))"
   ]
  },
  {
   "cell_type": "markdown",
   "metadata": {},
   "source": [
    "### Question 12\n",
    "\n",
    "How many paths of length 3 are there in your graph? Hint: calling the `compute_paths` function on every pair of node is not an efficient way to do it."
   ]
  },
  {
   "cell_type": "code",
   "execution_count": null,
   "metadata": {},
   "outputs": [],
   "source": [
    "# We create an unweighted version ot the adjacency matrix\n",
    "unw_adj=np.where(adjacency != 0, 1, 0)\n",
    "\n",
    "# Sum all elements of unw_adjacency^3\n",
    "\n",
    "adj_cub=np.matmul(np.matmul(unw_adj,unw_adj),unw_adj)\n",
    "\n",
    "print(np.sum(np.sum(np.int64(adj_cub))))"
   ]
  },
  {
   "cell_type": "markdown",
   "metadata": {},
   "source": [
    "### Question 13\n",
    "\n",
    "Write a function that takes as input the adjacency matrix of your graph (or of the largest connected component of your graph) and a node and returns the clustering coefficient of that node. "
   ]
  },
  {
   "cell_type": "code",
   "execution_count": null,
   "metadata": {},
   "outputs": [],
   "source": [
    "def compute_clustering_coefficient(adjacency, node):\n",
    "    \"\"\"Compute the clustering coefficient of a node.\n",
    "    \n",
    "    Parameters\n",
    "    ----------\n",
    "    adjacency: numpy array\n",
    "        The (weighted) adjacency matrix of a graph.\n",
    "    node: int\n",
    "        The node whose clustering coefficient will be computed. A number between 0 and n_nodes-1.\n",
    "    \n",
    "    Returns\n",
    "    -------\n",
    "    float\n",
    "        The clustering coefficient of the node. A number between 0 and 1.\n",
    "    \"\"\"\n",
    "    # Number of links between the neighbours of node on which we want to calculate the clustering coeff.\n",
    "    Li = 0\n",
    "    # List of neighbours of node on which we want to calculate the clustering coeff.\n",
    "    ki_list = []\n",
    "\n",
    "    for i in range(len(adjacency)):\n",
    "        # Find neighboring nodes\n",
    "        if (adjacency[node,i] != 0 and i != node):\n",
    "            # Store neighbouring nodes\n",
    "            ki_list.append(i)\n",
    "            \n",
    "    # If the number of neighbours is equal to or less than 1, the clustering coefficient is 0 :       \n",
    "    if (len(ki_list))<=1:\n",
    "        return 0.0\n",
    "    else :\n",
    "        # For every neighbour\n",
    "        for i in range(len(ki_list)):\n",
    "            for j in ki_list:\n",
    "                # Count every links between the neighbours only once\n",
    "                if ((adjacency[ki_list[i],j]) and (j in ki_list[i:])):\n",
    "                    # No difference in the execution when giving unweighted or weighted adjacency matrix\n",
    "                    Li += 1\n",
    "        # Formula given in lecture\n",
    "        clustering_coefficient = (2*Li)/(len(ki_list)*(len(ki_list) - 1))\n",
    "    \n",
    "    return clustering_coefficient"
   ]
  },
  {
   "cell_type": "markdown",
   "metadata": {},
   "source": [
    "### Question 14\n",
    "\n",
    "What is the average clustering coefficient of your graph (or of the largest connected component of your graph if your graph is disconnected)? Use the function ``compute_clustering_coefficient`` to determine your answer."
   ]
  },
  {
   "cell_type": "code",
   "execution_count": null,
   "metadata": {},
   "outputs": [],
   "source": [
    "average_clustering_coeff = 0.\n",
    "for i in range(n_nodes):\n",
    "    average_clustering_coeff += compute_clustering_coefficient(adjacency, i)/n_nodes\n",
    "print(average_clustering_coeff)"
   ]
  },
  {
   "cell_type": "code",
   "execution_count": null,
   "metadata": {},
   "outputs": [],
   "source": []
  }
 ],
 "metadata": {
  "kernelspec": {
   "display_name": "Python 3",
   "language": "python",
   "name": "python3"
  },
  "language_info": {
   "codemirror_mode": {
    "name": "ipython",
    "version": 3
   },
   "file_extension": ".py",
   "mimetype": "text/x-python",
   "name": "python",
   "nbconvert_exporter": "python",
   "pygments_lexer": "ipython3",
   "version": "3.7.0"
  }
 },
 "nbformat": 4,
 "nbformat_minor": 2
}
