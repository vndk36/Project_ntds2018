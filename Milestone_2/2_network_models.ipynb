{
 "cells": [
  {
   "cell_type": "markdown",
   "metadata": {},
   "source": [
    "# [NTDS'18] milestone 2: network models\n",
    "[ntds'18]: https://github.com/mdeff/ntds_2018\n",
    "\n",
    "[Hermina Petric Maretic](https://people.epfl.ch/hermina.petricmaretic), [EPFL LTS4](https://lts4.epfl.ch)"
   ]
  },
  {
   "cell_type": "markdown",
   "metadata": {},
   "source": [
    "## Students\n",
    "\n",
    "* Team: `10`\n",
    "* Students: `<the name of all students in the team>`\n",
    "* Dataset: `<the dataset you used to complete the milestone>`"
   ]
  },
  {
   "cell_type": "markdown",
   "metadata": {},
   "source": [
    "## Rules\n",
    "\n",
    "* Milestones have to be completed by teams. No collaboration between teams is allowed.\n",
    "* Textual answers shall be short. Typically one to two sentences.\n",
    "* Code has to be clean.\n",
    "* In the first part, you cannot import any other library than we imported. In the second part, you are allowed to import any library you want.\n",
    "* When submitting, the notebook is executed and the results are stored. I.e., if you open the notebook again it should show numerical results and plots. We won't be able to execute your notebooks.\n",
    "* The notebook is re-executed from a blank state before submission. That is to be sure it is reproducible. You can click \"Kernel\" then \"Restart & Run All\" in Jupyter."
   ]
  },
  {
   "cell_type": "markdown",
   "metadata": {},
   "source": [
    "## Objective\n",
    "\n",
    "The purpose of this milestone is to explore various random network models, analyse their properties and compare them to your network. In the first part of the milestone you will implement two random graph models and try to fit them to your network. In this part you are not allowed to use any additional package. In the second part of the milestone you will choose a third random graph model that you think shares some properties with your network. You will be allowed to use additional packages to construct this network, but you must explain your network choice. Finally, make your code as clean as possible, and keep your textual answers short."
   ]
  },
  {
   "cell_type": "markdown",
   "metadata": {},
   "source": [
    "## Part 0\n",
    "\n",
    "Import the adjacency matrix of your graph that you constructed in milestone 1, as well as the number of nodes and edges of your network."
   ]
  },
  {
   "cell_type": "code",
   "execution_count": 2,
   "metadata": {},
   "outputs": [],
   "source": [
    "adjacency =  np.load(\"../saved_adjacency.npy\")\n",
    "n_nodes =  len(adjacency)\n",
    "n_edges =  int(sum(sum(adjacency > 0))/2)"
   ]
  },
  {
   "cell_type": "markdown",
   "metadata": {},
   "source": [
    "## Part 1\n",
    "\n",
    "**For the computation of this part of the milestone you are only allowed to use the packages that have been imported in the cell below.**"
   ]
  },
  {
   "cell_type": "code",
   "execution_count": 1,
   "metadata": {},
   "outputs": [],
   "source": [
    "%matplotlib inline\n",
    "\n",
    "import random\n",
    "\n",
    "import numpy as np\n",
    "import pandas as pd\n",
    "import matplotlib.pyplot as plt\n",
    "import scipy\n",
    "\n",
    "import networkx as nx\n",
    "import pygsp"
   ]
  },
  {
   "cell_type": "markdown",
   "metadata": {},
   "source": [
    "### Question 1\n",
    "\n",
    "Create a function that constructs an Erdős–Rényi graph."
   ]
  },
  {
   "cell_type": "code",
   "execution_count": 4,
   "metadata": {},
   "outputs": [],
   "source": [
    "def erdos_renyi(n, p, seed=None):\n",
    "    \"\"\"Create an instance from the Erdos-Renyi graph model.\n",
    "    \n",
    "    Parameters\n",
    "    ----------\n",
    "    n: int\n",
    "        Size of the graph.\n",
    "    p: float\n",
    "        Edge probability. A number between 0 and 1.\n",
    "    seed: int (optional)\n",
    "        Seed for the random number generator. To get reproducible results.\n",
    "    \n",
    "    Returns\n",
    "    -------\n",
    "    adjacency\n",
    "        The adjacency matrix of a graph.\n",
    "    \"\"\"\n",
    "    # Initializing \"adjacency\" as an empty n x n matrix\n",
    "    adjacency = np.zeros((n,n))\n",
    "    # Initializing the random number generation with the desired seed\n",
    "    random.seed(seed)\n",
    "    \n",
    "    for i in range(n):\n",
    "        for j in range(i+1, n, 1):\n",
    "            # If the generated number (between 0 and 1) is smaller than the probability, an edge is created\n",
    "            if (random.random() < p):\n",
    "                adjacency[i,j]=adjacency[j,i]=1\n",
    "    \n",
    "    return adjacency"
   ]
  },
  {
   "cell_type": "code",
   "execution_count": 5,
   "metadata": {},
   "outputs": [
    {
     "data": {
      "text/plain": [
       "Text(0.5, 1.05, 'Erdos-Renyi (5, 0.6)')"
      ]
     },
     "execution_count": 5,
     "metadata": {},
     "output_type": "execute_result"
    },
    {
     "data": {
      "image/png": "[encoded data removed]",
      "text/plain": [
       "<Figure size 432x288 with 1 Axes>"
      ]
     },
     "metadata": {},
     "output_type": "display_data"
    }
   ],
   "source": [
    "er = erdos_renyi(5, 0.6, 9765)\n",
    "plt.spy(er)\n",
    "plt.title('Erdos-Renyi (5, 0.6)')"
   ]
  },
  {
   "cell_type": "code",
   "execution_count": 6,
   "metadata": {},
   "outputs": [
    {
     "data": {
      "text/plain": [
       "Text(0.5, 1.05, 'Erdos-Renyi (10, 0.4)')"
      ]
     },
     "execution_count": 6,
     "metadata": {},
     "output_type": "execute_result"
    },
    {
     "data": {
      "image/png": "[encoded data removed]",
      "text/plain": [
       "<Figure size 432x288 with 1 Axes>"
      ]
     },
     "metadata": {},
     "output_type": "display_data"
    }
   ],
   "source": [
    "er = erdos_renyi(10, 0.4, 7648)\n",
    "plt.spy(er)\n",
    "plt.title('Erdos-Renyi (10, 0.4)')"
   ]
  },
  {
   "cell_type": "markdown",
   "metadata": {},
   "source": [
    "### Question 2\n",
    "\n",
    "Use the function to create a random Erdos-Renyi graph. Choose the parameters such that number of nodes is the same as in your graph, and the number of edges similar. You don't need to set the random seed. Comment on your choice of parameters."
   ]
  },
  {
   "cell_type": "code",
   "execution_count": 7,
   "metadata": {},
   "outputs": [
    {
     "data": {
      "text/plain": [
       "Text(0.5, 1.05, 'ER NetworkX (20, 0.4)')"
      ]
     },
     "execution_count": 7,
     "metadata": {},
     "output_type": "execute_result"
    },
    {
     "data": {
      "image/png": "[encoded data removed]",
      "text/plain": [
       "<Figure size 576x576 with 2 Axes>"
      ]
     },
     "metadata": {},
     "output_type": "display_data"
    }
   ],
   "source": [
    "## Your code here.\n",
    "er = erdos_renyi(20, 0.4,1)\n",
    "plt.figure(figsize=(8,8))\n",
    "plt.subplot(121)\n",
    "plt.spy(er)\n",
    "plt.title('ER (20, 0.4)')\n",
    "\n",
    "er = nx.erdos_renyi_graph(20,0.4,1)\n",
    "er = nx.to_numpy_matrix(er)\n",
    "plt.subplot(122)\n",
    "plt.spy(er)\n",
    "plt.title('ER NetworkX (20, 0.4)')"
   ]
  },
  {
   "cell_type": "code",
   "execution_count": 8,
   "metadata": {},
   "outputs": [
    {
     "name": "stdout",
     "output_type": "stream",
     "text": [
      "L_max =  4921953\n",
      "Our Network:\n",
      "L_net = 163621.0\n",
      "Link probability =  0.03324310492196898\n",
      "Random Network:\n",
      "L_er = 163391\n",
      "Link probability =  0.033196375503788844\n"
     ]
    }
   ],
   "source": [
    "# Binarization of adjacency matrix, in this milestone, the weights aren't relevant\n",
    "adjacency=np.where(adjacency != 0, 1, 0)\n",
    "\n",
    "# L max is equal to the number of distinct pair of nodes present in the graph\n",
    "L_max=int(n_nodes*(n_nodes-1)/2)\n",
    "print('L_max = ',L_max)\n",
    "\n",
    "print('Our Network:')\n",
    "# To compute L, we need to count how many non-zero elements there are in the top-right half of the adjacency matrix\n",
    "L_net=np.sum(adjacency)/2\n",
    "print('L_net =',L_net)\n",
    "\n",
    "# Computing the density of our network which represents the probability in the Erdos-Renyi model\n",
    "L_Prob = L_net/L_max\n",
    "\n",
    "print('Link probability = ',L_Prob)\n",
    "\n",
    "# Creating a grapho of the same size as ours, that will have approximately the same number of links\n",
    "er=erdos_renyi(n_nodes, L_Prob)\n",
    "print('Random Network:')\n",
    "\n",
    "L_er=int(np.sum(er)/2)\n",
    "print('L_er =',L_er)\n",
    "\n",
    "# Densitiy of the Erdos-Renyi graph\n",
    "print('Link probability = ',L_er/L_max)"
   ]
  },
  {
   "cell_type": "markdown",
   "metadata": {},
   "source": [
    "**Your answer here.**"
   ]
  },
  {
   "cell_type": "markdown",
   "metadata": {},
   "source": [
    "### Question 3\n",
    "\n",
    "Create a function that constructs a Barabási-Albert graph."
   ]
  },
  {
   "cell_type": "code",
   "execution_count": null,
   "metadata": {},
   "outputs": [],
   "source": [
    "def barabasi_albert(n, m, m0=2, seed=None):\n",
    "    \"\"\"Create an instance from the Barabasi-Albert graph model.\n",
    "    \n",
    "    Parameters\n",
    "    ----------\n",
    "    n: int\n",
    "        Size of the graph.\n",
    "    m: int\n",
    "        Number of edges to attach from a new node to existing nodes.\n",
    "    m0: int (optional)\n",
    "        Number of nodes for the inital connected network.\n",
    "    seed: int (optional)\n",
    "        Seed for the random number generator. To get reproducible results.\n",
    "    \n",
    "    Returns\n",
    "    -------\n",
    "    adjacency\n",
    "        The adjacency matrix of a graph.\n",
    "    \"\"\"\n",
    "    \n",
    "    # Initializing random seed\n",
    "    random.seed(seed)\n",
    "    # Empty adjacency matrix to fill\n",
    "    adjacency = np.zeros((n,n))\n",
    " \n",
    "    # List of already connected nodes: Nodes with X connections will appear X times (Preferential attachment)\n",
    "    connected = []\n",
    "\n",
    "    # Set of nodes to_connect to (use of set to avoid multiple links between two nodes)\n",
    "    # Loop to connect the initial network as a randomly connected path graph\n",
    "    initial = list(range(m0))\n",
    "    random.shuffle(initial)\n",
    "    for i in range(len(initial)-1):\n",
    "        adjacency[initial[i], initial[i+1]] = 1\n",
    "        adjacency[initial[i+1], initial[i]] = 1\n",
    "        connected.extend([initial[i], initial[i+1]])\n",
    "        \n",
    "    # Set of nodes to_connect to (use of set to avoid multiple links between two nodes)\n",
    "    to_connect = set()\n",
    "    \n",
    "    # Particular case where m0=1 and therefore \"connected\" is empty\n",
    "    if m0==1:\n",
    "        to_connect.add(0)\n",
    "    \n",
    "    while len(to_connect) < m:\n",
    "        to_connect.add(random.choice(connected))\n",
    "        \n",
    "    to_connect = set(range(m))\n",
    "\n",
    "    # Index of the first node to add to the network\n",
    "    selected = m\n",
    "    \n",
    "    while selected < n :\n",
    "        # Creation of links between the \"selected\" node and the \"to_connect\" one(s)\n",
    "        for node in to_connect:\n",
    "            adjacency[selected, node]=1\n",
    "            adjacency[node, selected]=1\n",
    "        \n",
    "        # Indexes of nodes connected on the above operation are added to the \"connected\" list\n",
    "        connected.extend(list(to_connect))\n",
    "        # Selected node is added m times on the list since m new links are created\n",
    "        connected.extend([selected for i in range(m)])\n",
    "        \n",
    "        # Reset of set\n",
    "        to_connect=set()\n",
    "        \n",
    "        # Searching for m different randomly chosen node \"to_connect\" to\n",
    "        while len(to_connect) < m:\n",
    "            to_connect.add(random.choice(connected))\n",
    "        \n",
    "        selected+=1\n",
    "    \n",
    "    return adjacency"
   ]
  },
  {
   "cell_type": "code",
   "execution_count": null,
   "metadata": {},
   "outputs": [],
   "source": [
    "ba = barabasi_albert(5, 1, 2, 9087)\n",
    "plt.spy(ba)\n",
    "plt.title('Barabasi-Albert (5, 1)')"
   ]
  },
  {
   "cell_type": "code",
   "execution_count": null,
   "metadata": {},
   "outputs": [],
   "source": [
    "ba = barabasi_albert(10, 2, 3, 8708)\n",
    "plt.figure(figsize=(8,8))\n",
    "plt.subplot(121)\n",
    "plt.spy(ba)\n",
    "plt.title('Barabasi-Albert (10, 2)')\n",
    "\n",
    "#ba = nx.barabasi_albert_graph(10,2,8708)\n",
    "#ba = nx.to_numpy_matrix(ba)\n",
    "#plt.subplot(121)\n",
    "#plt.spy(ba)\n",
    "#plt.title('Barabasi-Albert NetworkX (10, 2)')\n",
    "\n",
    "from pygsp import graphs\n",
    "import matplotlib.pyplot as plt\n",
    "G = graphs.BarabasiAlbert(10,3,2,8708)\n",
    "\n",
    "plt.subplot(122)\n",
    "plt.spy(G.W, markersize=15)"
   ]
  },
  {
   "cell_type": "markdown",
   "metadata": {},
   "source": [
    "### Question 4\n",
    "\n",
    "Use the function to create a random Barabási-Albert graph. Choose the parameters such that number of nodes is the same as in your graph, and the number of edges similar. You don't need to set the random seed. Comment on your choice of parameters."
   ]
  },
  {
   "cell_type": "code",
   "execution_count": null,
   "metadata": {},
   "outputs": [],
   "source": [
    "# Your code here.\n",
    "# L max is equal to the number of distinct pair of nodes present in the graph\n",
    "L_max=int(n_nodes*(n_nodes-1)/2)\n",
    "print('L_max = ',L_max)\n",
    "\n",
    "print('Our Network:')\n",
    "print('L_net =',L_net)\n",
    "\n",
    "m_1 = (n_nodes+(3031.92348))/2\n",
    "m_2 = (n_nodes-(3031.92348))/2\n",
    "\n",
    "print(\"m 1:\", m_1, \"m 2:\", m_2)\n",
    "\n",
    "print(\"B/A Model with m=53:\")\n",
    "ba = barabasi_albert(n=n_nodes, m=53)\n",
    "\n",
    "L_ba = sum(sum(ba))/2\n",
    "print('L_ba =',L_ba)"
   ]
  },
  {
   "cell_type": "code",
   "execution_count": null,
   "metadata": {},
   "outputs": [],
   "source": [
    "plt.figure(figsize=(8,8))\n",
    "plt.subplot(121)\n",
    "plt.spy(adjacency)\n",
    "#plt.title('Barabasi-Albert (10, 2)')\n",
    "\n",
    "ba = nx.barabasi_albert_graph(n_nodes, 53)\n",
    "ba = nx.to_numpy_matrix(ba)\n",
    "plt.subplot(122)\n",
    "plt.spy(ba)"
   ]
  },
  {
   "cell_type": "markdown",
   "metadata": {},
   "source": [
    "**Your answer here**\n",
    "\n",
    "After the first iteration, the Barabasi/Albert model network has m+1 nodes and m links. After the second one, the network has now m+2 nodes and 2m links. We can assume the final network with n = m+(n-m) nodes has L = (n-m)m links. This last formula gives us a relation between Barbasi/Albert initial parameter m and our network's informations and by solving the following equation, we can determine the optimal parameter:\n",
    "\n",
    "m^2 - nm + L = 0\n",
    "\n",
    "Since our network has L = 163621 links and n = 3138 nodes it means the best parameters to fit our network are m_1 = 53 or m_2 = 3085 (163'505 links) to have the same number of links and nodes."
   ]
  },
  {
   "cell_type": "markdown",
   "metadata": {},
   "source": [
    "### Question 5\n",
    "\n",
    "Compare the number of edges in all three networks (your real network, the Erdős–Rényi network, and the Barabási-Albert netowk)."
   ]
  },
  {
   "cell_type": "code",
   "execution_count": 14,
   "metadata": {},
   "outputs": [
    {
     "data": {
      "text/plain": [
       "0.9999999999999957"
      ]
     },
     "execution_count": 14,
     "metadata": {},
     "output_type": "execute_result"
    },
    {
     "data": {
      "image/png": "[encoded data removed]",
      "text/plain": [
       "<Figure size 432x288 with 1 Axes>"
      ]
     },
     "metadata": {},
     "output_type": "display_data"
    }
   ],
   "source": [
    "## Your code here.\n",
    "# We create an array containing the degree of each node\n",
    "degree = np.sum(adjacency,0)\n",
    "weights = np.ones_like(degree) / float(n_nodes)\n",
    "deg=plt.hist(degree,weights=weights,  bins=15);\n",
    "\n",
    "deg_pdf=np.histogram(degree,bins=30,weights=weights)\n",
    "sum(deg_pdf[0])"
   ]
  },
  {
   "cell_type": "markdown",
   "metadata": {},
   "source": [
    "### Question 6\n",
    "\n",
    "Implement a function that computes the [Kullback–Leibler (KL) divergence](https://en.wikipedia.org/wiki/Kullback%E2%80%93Leibler_divergence) between two probability distributions.\n",
    "We'll use it to compare the degree distributions of networks."
   ]
  },
  {
   "cell_type": "code",
   "execution_count": 15,
   "metadata": {},
   "outputs": [],
   "source": [
    "def kl_divergence(p, q):\n",
    "    \"\"\"Compute the KL divergence between probability distributions of degrees of two networks.\n",
    "    \n",
    "    Parameters\n",
    "    ----------\n",
    "    p: np.array\n",
    "        Probability distribution of degrees of the 1st graph.\n",
    "    q: np.array\n",
    "        Probability distribution of degrees of the 2nd graph.\n",
    "    \n",
    "    Returns\n",
    "    -------\n",
    "    kl\n",
    "        The KL divergence between the two distributions.\n",
    "    \"\"\"\n",
    "    \n",
    "    # Your code here.\n",
    "    kl=0.;\n",
    "    \n",
    "    for i in range(len(p)):\n",
    "        if(p[i] and q[i]):\n",
    "            kl+=p[i]*np.log(p[i]/q[i])\n",
    "    \n",
    "    return kl"
   ]
  },
  {
   "cell_type": "code",
   "execution_count": 17,
   "metadata": {},
   "outputs": [
    {
     "name": "stdout",
     "output_type": "stream",
     "text": [
      "our function gives : 0.09151622184943575\n",
      "scipy.stats.entropy gives: 0.09151622184943575\n"
     ]
    }
   ],
   "source": [
    "p_test = np.array([0.2, 0.2, 0.2, 0.4])\n",
    "q_test = np.array([0.3, 0.3, 0.1, 0.3])\n",
    "\n",
    "##p_test = np.array([0.9, 0.05, 0.05])\n",
    "##q_test = np.array([0.33333, 0.33333, 0.33333])\n",
    "\n",
    "print('our function gives :',kl_divergence(p_test, q_test))\n",
    "\n",
    "## comparing with scipy function\n",
    "print('scipy.stats.entropy gives:',scipy.stats.entropy(p_test,q_test))"
   ]
  },
  {
   "cell_type": "markdown",
   "metadata": {},
   "source": [
    "### Question 7: \n",
    "\n",
    "Compare the degree distribution of your network to each of the two synthetic ones, in terms of KL divergence.\n",
    "\n",
    "**Hint:** Make sure you normalise your degree distributions to make them valid probability distributions.\n",
    "\n",
    "**Hint:** Make sure none of the graphs have disconnected nodes, as KL divergence will not be defined in that case. If that happens with one of the randomly generated networks, you can regenerate it and keep the seed that gives you no disconnected nodes."
   ]
  },
  {
   "cell_type": "code",
   "execution_count": null,
   "metadata": {},
   "outputs": [],
   "source": [
    "# Your code here.\n",
    "nb_bins=20\n",
    "bins=list(range(0,700,nb_bins))\n",
    "#bins=list(np.unique(np.transpose(np.floor(np.logspace(0,np.log10(700),nb_bins)))))\n",
    "bi1=[0,70]\n",
    "bi2=list(range(79,138,10))\n",
    "bi3=[138,700]\n",
    "bins=bi1+bi2+bi3\n",
    "\n",
    "\n",
    "plt.figure(figsize=(3,11))\n",
    "plt.subplot(311)\n",
    "\n",
    "plt.title('Our graph degree distribution')\n",
    "deg_pdf=plt.hist(degree,bins=bins,weights=weights)\n",
    "\n",
    "er = erdos_renyi(n_nodes, 0.0332431, 15);\n",
    "#er = erdos_renyi(n_nodes, 0.1, 15);\n",
    "##ba = barabasi_albert(n_nodes, 53);\n",
    "\n",
    "deg_er=np.sum(er,0);\n",
    "##deg_ba=np.sum(ba,0);\n",
    "\n",
    "plt.subplot(312)\n",
    "\n",
    "deg_pdf_er=plt.hist(deg_er,bins=bins,weights=weights);\n",
    "plt.title(kl_divergence(deg_pdf[0],deg_pdf_er[0]))\n",
    "#plt.title('Erdos-Renyi graph degree distribution')\n",
    "#plt.title(scipy.stats.entropy(deg_pdf[0],deg_pdf_er[0]))\n",
    "\n",
    "\n",
    "#plt.subplot(313)\n",
    "#\n",
    "#deg_pdf_ba=plt.hist(deg_ba,bins=bins,weights=weights);\n",
    "#plt.title(kl_divergence(deg_pdf[0],deg_pdf_ba[0]))\n",
    "#\n",
    "#kl_divergence(deg_pdf[0],deg_pdf_ba[0]);\n",
    "\n",
    "print(\"maxDeg:\",max(degree), max(deg_er))#, max(deg_ba))\n",
    "print(\"minDeg:\",min(degree), min(deg_er))#, min(deg_ba))\n"
   ]
  },
  {
   "cell_type": "markdown",
   "metadata": {},
   "source": [
    "### Question 8\n",
    "\n",
    "Plot the degree distribution historgrams for all three networks. Are they consistent with the KL divergence results? Explain."
   ]
  },
  {
   "cell_type": "code",
   "execution_count": null,
   "metadata": {},
   "outputs": [],
   "source": [
    "# Your code here.\n",
    "# numpy.logspace(start, stop, num=50, endpoint=True, base=10.0, dtype=None)\n",
    "print(list(np.unique(np.transpose(np.floor(np.logspace(0,np.log2(700),num=50, base=2.0))))))\n",
    "\n",
    "bi1=[0,69]\n",
    "bi2=list(range(72,138,3))\n",
    "bi3=[138,700]\n",
    "print(bi1+bi2+bi3)"
   ]
  },
  {
   "cell_type": "markdown",
   "metadata": {},
   "source": [
    "**Your answer here.**"
   ]
  },
  {
   "cell_type": "markdown",
   "metadata": {},
   "source": [
    "### Question 9\n",
    "\n",
    "Imagine you got equal degree distributions. Would that guarantee you got the same graph? Explain."
   ]
  },
  {
   "cell_type": "markdown",
   "metadata": {},
   "source": [
    "**Your answer here.**\n",
    "\n",
    "No it wouldn't guarantee the same graph. As seen in lecture 3 (Scale-free networks), slide 25 : we can randomize any network while preserving the degree of each node. This would result in a graph with equal degree distribution to the original but with the links connecting different nodes. Thus, equal degree distributions don't lead to same graphs."
   ]
  },
  {
   "cell_type": "markdown",
   "metadata": {},
   "source": [
    "## Part 2\n",
    "\n",
    "**You are allowed to use any additional library here (e.g., NetworkX, PyGSP, etc.).** Be careful not to include something here and use it in part 1!"
   ]
  },
  {
   "cell_type": "markdown",
   "metadata": {},
   "source": [
    "### Question 10\n",
    "\n",
    "Choose a random network model that fits you network well. Explain your choice. \n",
    "\n",
    "**Hint:** Check lecture notes for different network models and their properties. Your choice should be made based on at least one property you'd expect to be similar."
   ]
  },
  {
   "cell_type": "markdown",
   "metadata": {},
   "source": [
    "**Your answer here.**"
   ]
  },
  {
   "cell_type": "markdown",
   "metadata": {},
   "source": [
    "### Question 11\n",
    "\n",
    "Explain (in short) how the chosen model works."
   ]
  },
  {
   "cell_type": "markdown",
   "metadata": {},
   "source": [
    "**Your answer here.**"
   ]
  },
  {
   "cell_type": "markdown",
   "metadata": {},
   "source": [
    "### Question 12\n",
    "\n",
    "Create a random graph from that model, such that the number of nodes is the same as in your graph."
   ]
  },
  {
   "cell_type": "code",
   "execution_count": 25,
   "metadata": {},
   "outputs": [],
   "source": [
    "# Your code here.\n",
    "\n",
    "G_ours= nx.from_numpy_matrix(np.asmatrix(adjacency))\n",
    "L_ours=nx.algorithms.shortest_paths.generic.average_shortest_path_length(G_ours)\n",
    "C_ours=nx.algorithms.cluster.average_c<tlustering(G_ours)"
   ]
  },
  {
   "cell_type": "code",
   "execution_count": 27,
   "metadata": {},
   "outputs": [],
   "source": [
    "G_erdos = nx.erdos_renyi_graph(n_nodes,0.033)\n",
    "L_erdos = nx.algorithms.shortest_paths.generic.average_shortest_path_length(G_erdos)\n",
    "C_erdos = nx.algorithms.cluster.average_clustering(G_erdos)"
   ]
  },
  {
   "cell_type": "code",
   "execution_count": 30,
   "metadata": {},
   "outputs": [
    {
     "name": "stdout",
     "output_type": "stream",
     "text": [
      "5.936682809741164\n"
     ]
    }
   ],
   "source": [
    "sigma=(C_ours/C_erdos)/(L_ours/L_erdos)\n",
    "print(sigma)"
   ]
  },
  {
   "cell_type": "markdown",
   "metadata": {},
   "source": [
    "### Question 13\n",
    "\n",
    "Check the properties you expected to be similar, and compare to your network."
   ]
  },
  {
   "cell_type": "code",
   "execution_count": null,
   "metadata": {},
   "outputs": [],
   "source": [
    "# Your code here."
   ]
  },
  {
   "cell_type": "markdown",
   "metadata": {},
   "source": [
    "Are the results what you expected? Explain."
   ]
  },
  {
   "cell_type": "markdown",
   "metadata": {},
   "source": [
    "**Your answer here.**"
   ]
  }
 ],
 "metadata": {
  "kernelspec": {
   "display_name": "Python 3",
   "language": "python",
   "name": "python3"
  },
  "language_info": {
   "codemirror_mode": {
    "name": "ipython",
    "version": 3
   },
   "file_extension": ".py",
   "mimetype": "text/x-python",
   "name": "python",
   "nbconvert_exporter": "python",
   "pygments_lexer": "ipython3",
   "version": "3.7.0"
  }
 },
 "nbformat": 4,
 "nbformat_minor": 2
}
