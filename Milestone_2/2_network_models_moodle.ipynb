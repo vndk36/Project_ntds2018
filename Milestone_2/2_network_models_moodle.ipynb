{
 "cells": [
  {
   "cell_type": "markdown",
   "metadata": {},
   "source": [
    "# [NTDS'18] milestone 2: network models\n",
    "[ntds'18]: https://github.com/mdeff/ntds_2018\n",
    "\n",
    "[Hermina Petric Maretic](https://people.epfl.ch/hermina.petricmaretic), [EPFL LTS4](https://lts4.epfl.ch)"
   ]
  },
  {
   "cell_type": "markdown",
   "metadata": {},
   "source": [
    "## Students\n",
    "\n",
    "* Team: `10`\n",
    "* Students: `Cionca Alexandre, De Goumoëns Frédéric, Fluhr Hugo, Donzier Paul`\n",
    "* Dataset: `TMBd dataset (subset of IMDb)`"
   ]
  },
  {
   "cell_type": "markdown",
   "metadata": {},
   "source": [
    "## Rules\n",
    "\n",
    "* Milestones have to be completed by teams. No collaboration between teams is allowed.\n",
    "* Textual answers shall be short. Typically one to two sentences.\n",
    "* Code has to be clean.\n",
    "* In the first part, you cannot import any other library than we imported. In the second part, you are allowed to import any library you want.\n",
    "* When submitting, the notebook is executed and the results are stored. I.e., if you open the notebook again it should show numerical results and plots. We won't be able to execute your notebooks.\n",
    "* The notebook is re-executed from a blank state before submission. That is to be sure it is reproducible. You can click \"Kernel\" then \"Restart & Run All\" in Jupyter."
   ]
  },
  {
   "cell_type": "markdown",
   "metadata": {},
   "source": [
    "## Objective\n",
    "\n",
    "The purpose of this milestone is to explore various random network models, analyse their properties and compare them to your network. In the first part of the milestone you will implement two random graph models and try to fit them to your network. In this part you are not allowed to use any additional package. In the second part of the milestone you will choose a third random graph model that you think shares some properties with your network. You will be allowed to use additional packages to construct this network, but you must explain your network choice. Finally, make your code as clean as possible, and keep your textual answers short."
   ]
  },
  {
   "cell_type": "markdown",
   "metadata": {},
   "source": [
    "## Part 0\n",
    "\n",
    "Import the adjacency matrix of your graph that you constructed in milestone 1, as well as the number of nodes and edges of your network."
   ]
  },
  {
   "cell_type": "code",
   "execution_count": 2,
   "metadata": {},
   "outputs": [],
   "source": [
    "adjacency =  np.load(\"../saved_adjacency.npy\")\n",
    "n_nodes =  len(adjacency)\n",
    "n_edges =  int(sum(sum(adjacency > 0))/2)"
   ]
  },
  {
   "cell_type": "markdown",
   "metadata": {},
   "source": [
    "## Part 1\n",
    "\n",
    "**For the computation of this part of the milestone you are only allowed to use the packages that have been imported in the cell below.**"
   ]
  },
  {
   "cell_type": "code",
   "execution_count": 1,
   "metadata": {},
   "outputs": [],
   "source": [
    "%matplotlib inline\n",
    "\n",
    "import random\n",
    "\n",
    "import numpy as np\n",
    "import pandas as pd\n",
    "import matplotlib.pyplot as plt\n",
    "import scipy"
   ]
  },
  {
   "cell_type": "markdown",
   "metadata": {},
   "source": [
    "### Question 1\n",
    "\n",
    "Create a function that constructs an Erdős–Rényi graph."
   ]
  },
  {
   "cell_type": "code",
   "execution_count": 3,
   "metadata": {},
   "outputs": [],
   "source": [
    "def erdos_renyi(n, p, seed=None):\n",
    "    \"\"\"Create an instance from the Erdos-Renyi graph model.\n",
    "    \n",
    "    Parameters\n",
    "    ----------\n",
    "    n: int\n",
    "        Size of the graph.\n",
    "    p: float\n",
    "        Edge probability. A number between 0 and 1.\n",
    "    seed: int (optional)\n",
    "        Seed for the random number generator. To get reproducible results.\n",
    "    \n",
    "    Returns\n",
    "    -------\n",
    "    adjacency\n",
    "        The adjacency matrix of a graph.\n",
    "    \"\"\"\n",
    "    # Initializing \"adjacency\" as an empty n x n matrix\n",
    "    adjacency = np.zeros((n,n))\n",
    "    # Initializing the random number generation with the desired seed\n",
    "    random.seed(seed)\n",
    "    \n",
    "    for i in range(n):\n",
    "        for j in range(i+1, n, 1):\n",
    "            # If the generated number (between 0 and 1) is smaller than the probability, an edge is created\n",
    "            if (random.random() < p):\n",
    "                adjacency[i,j]=adjacency[j,i]=1\n",
    "    \n",
    "    return adjacency"
   ]
  },
  {
   "cell_type": "code",
   "execution_count": 4,
   "metadata": {},
   "outputs": [
    {
     "data": {
      "text/plain": [
       "Text(0.5, 1.05, 'Erdos-Renyi (5, 0.6)')"
      ]
     },
     "execution_count": 4,
     "metadata": {},
     "output_type": "execute_result"
    },
    {
     "data": {
      "image/png": "[encoded data removed]",
      "text/plain": [
       "<Figure size 432x288 with 1 Axes>"
      ]
     },
     "metadata": {},
     "output_type": "display_data"
    }
   ],
   "source": [
    "er = erdos_renyi(5, 0.6, 9765)\n",
    "plt.spy(er)\n",
    "plt.title('Erdos-Renyi (5, 0.6)')"
   ]
  },
  {
   "cell_type": "code",
   "execution_count": 5,
   "metadata": {},
   "outputs": [
    {
     "data": {
      "text/plain": [
       "Text(0.5, 1.05, 'Erdos-Renyi (10, 0.4)')"
      ]
     },
     "execution_count": 5,
     "metadata": {},
     "output_type": "execute_result"
    },
    {
     "data": {
      "image/png": "[encoded data removed]",
      "text/plain": [
       "<Figure size 432x288 with 1 Axes>"
      ]
     },
     "metadata": {},
     "output_type": "display_data"
    }
   ],
   "source": [
    "er = erdos_renyi(10, 0.4, 7648)\n",
    "plt.spy(er)\n",
    "plt.title('Erdos-Renyi (10, 0.4)')"
   ]
  },
  {
   "cell_type": "markdown",
   "metadata": {},
   "source": [
    "### Question 2\n",
    "\n",
    "Use the function to create a random Erdos-Renyi graph. Choose the parameters such that number of nodes is the same as in your graph, and the number of edges similar. You don't need to set the random seed. Comment on your choice of parameters."
   ]
  },
  {
   "cell_type": "code",
   "execution_count": 7,
   "metadata": {},
   "outputs": [
    {
     "name": "stdout",
     "output_type": "stream",
     "text": [
      "L_max =  4921953\n",
      "Our Network:\n",
      "L_net = 163621\n",
      "Our Link probability =  0.03324310492196898\n",
      "Random Network:\n",
      "L_er = 163664\n",
      "ER Link probability =  0.03325184129145484\n"
     ]
    }
   ],
   "source": [
    "# Binarization of adjacency matrix, in this milestone, the weights aren't relevant for this milestone\n",
    "adjacency=np.where(adjacency != 0, 1, 0)\n",
    "\n",
    "# L max is equal to the number of distinct pair of nodes present in the graph\n",
    "L_max=int(n_nodes*(n_nodes-1)/2)\n",
    "print('L_max = ',L_max)\n",
    "\n",
    "print('Our Network:')\n",
    "# Number of edges in our network was computed before as n_edges\n",
    "print('L_net =',n_edges)\n",
    "\n",
    "# Computing the density of our network which represents the probability of links in the Erdos-Renyi model\n",
    "L_Prob = n_edges/L_max\n",
    "\n",
    "print('Our Link probability = ',L_Prob)\n",
    "\n",
    "# Creating a graph of the same size as ours, that will have approximately the same number of links\n",
    "er=erdos_renyi(n_nodes, L_Prob, seed=15)\n",
    "print('Random Network:')\n",
    "\n",
    "L_er=int(np.sum(er)/2)\n",
    "print('L_er =',L_er)\n",
    "\n",
    "# Densitiy of the Erdos-Renyi graph\n",
    "print('ER Link probability = ',L_er/L_max)"
   ]
  },
  {
   "cell_type": "markdown",
   "metadata": {},
   "source": [
    "Knowing from milestone 1 that the maximum number of links L_max = 4921953 and the total number of links L = 163621, we conclude that the link probability of our graph is L/L_max = 0.0332431 –> 3.32%"
   ]
  },
  {
   "cell_type": "markdown",
   "metadata": {},
   "source": [
    "### Question 3\n",
    "\n",
    "Create a function that constructs a Barabási-Albert graph."
   ]
  },
  {
   "cell_type": "code",
   "execution_count": 8,
   "metadata": {},
   "outputs": [],
   "source": [
    "def barabasi_albert(n, m, m0=2, seed=None):\n",
    "    \"\"\"Create an instance from the Barabasi-Albert graph model.\n",
    "    \n",
    "    Parameters\n",
    "    ----------\n",
    "    n: int\n",
    "        Size of the graph.\n",
    "    m: int\n",
    "        Number of edges to attach from a new node to existing nodes.\n",
    "    m0: int (optional)\n",
    "        Number of nodes for the inital connected network.\n",
    "    seed: int (optional)\n",
    "        Seed for the random number generator. To get reproducible results.\n",
    "    \n",
    "    Returns\n",
    "    -------\n",
    "    adjacency\n",
    "        The adjacency matrix of a graph.\n",
    "    \"\"\"\n",
    "    \n",
    "    if m0<m:\n",
    "        print(\"m0 has been changed from: \",m0,\"to: \",m)\n",
    "        m0=m\n",
    "    \n",
    "    # Initializing random seed\n",
    "    random.seed(seed)\n",
    "    # Empty adjacency matrix to fill\n",
    "    adjacency = np.zeros((n,n))\n",
    " \n",
    "    # List of already connected nodes: Nodes with X connections will appear X times (Preferential attachment)\n",
    "    connected = []\n",
    "\n",
    "    # Set of nodes to_connect to (use of set to avoid multiple links between two nodes)\n",
    "    # Loop to connect the initial network as a randomly connected path graph\n",
    "    initial = list(range(m0))\n",
    "    random.shuffle(initial)\n",
    "    for i in range(len(initial)-1):\n",
    "        adjacency[initial[i], initial[i+1]] = 1\n",
    "        adjacency[initial[i+1], initial[i]] = 1\n",
    "        connected.extend([initial[i], initial[i+1]])\n",
    "        \n",
    "    # Set of nodes to_connect to (use of set to avoid multiple links between two nodes)\n",
    "    to_connect = set()\n",
    "    \n",
    "    # Particular case where m0=1 and therefore \"connected\" is empty\n",
    "    if m0==1:\n",
    "        to_connect.add(0)\n",
    "    \n",
    "    # Random selection of nodes \"to_connect\" to\n",
    "    while len(to_connect) < m:\n",
    "        to_connect.add(random.choice(connected))\n",
    "\n",
    "    # Index of the first node to add to the network\n",
    "    selected = m\n",
    "    \n",
    "    while selected < n :\n",
    "        # Creation of links between the \"selected\" node and the \"to_connect\" one(s)\n",
    "        for node in to_connect:\n",
    "            adjacency[selected, node]=1\n",
    "            adjacency[node, selected]=1\n",
    "        \n",
    "        # Indexes of nodes connected on the above operation are added to the \"connected\" list\n",
    "        connected.extend(list(to_connect))\n",
    "        # Selected node is added m times on the list since m new links are created\n",
    "        connected.extend([selected for i in range(m)])\n",
    "        \n",
    "        # Reset of set\n",
    "        to_connect=set()\n",
    "        \n",
    "        # Searching for m different randomly chosen node \"to_connect\" to\n",
    "        while len(to_connect) < m:\n",
    "            to_connect.add(random.choice(connected))\n",
    "        \n",
    "        selected+=1\n",
    "    \n",
    "    return adjacency"
   ]
  },
  {
   "cell_type": "code",
   "execution_count": 9,
   "metadata": {},
   "outputs": [
    {
     "data": {
      "text/plain": [
       "Text(0.5, 1.05, 'Barabasi-Albert (5, 1)')"
      ]
     },
     "execution_count": 9,
     "metadata": {},
     "output_type": "execute_result"
    },
    {
     "data": {
      "image/png": "[encoded data removed]",
      "text/plain": [
       "<Figure size 432x288 with 1 Axes>"
      ]
     },
     "metadata": {},
     "output_type": "display_data"
    }
   ],
   "source": [
    "ba = barabasi_albert(5, 1, 2, 9087)\n",
    "plt.spy(ba)\n",
    "plt.title('Barabasi-Albert (5, 1)')"
   ]
  },
  {
   "cell_type": "code",
   "execution_count": 10,
   "metadata": {},
   "outputs": [
    {
     "data": {
      "text/plain": [
       "Text(0.5, 1.05, 'Barabasi-Albert (10, 2)')"
      ]
     },
     "execution_count": 10,
     "metadata": {},
     "output_type": "execute_result"
    },
    {
     "data": {
      "image/png": "[encoded data removed]",
      "text/plain": [
       "<Figure size 576x576 with 1 Axes>"
      ]
     },
     "metadata": {},
     "output_type": "display_data"
    }
   ],
   "source": [
    "ba = barabasi_albert(10, 2, 3, 8708)\n",
    "plt.figure(figsize=(8,8))\n",
    "plt.subplot(121)\n",
    "plt.spy(ba)\n",
    "plt.title('Barabasi-Albert (10, 2)')"
   ]
  },
  {
   "cell_type": "markdown",
   "metadata": {},
   "source": [
    "### Question 4\n",
    "\n",
    "Use the function to create a random Barabási-Albert graph. Choose the parameters such that number of nodes is the same as in your graph, and the number of edges similar. You don't need to set the random seed. Comment on your choice of parameters."
   ]
  },
  {
   "cell_type": "code",
   "execution_count": 11,
   "metadata": {},
   "outputs": [
    {
     "name": "stdout",
     "output_type": "stream",
     "text": [
      "L_max =  4921953\n",
      "Our Network:\n",
      "L_net = 163621\n",
      "m 1: 3085.978898633278 m 2: 53.02110136672195\n",
      "B/A Model with m=53:\n",
      "L_ba = 163557\n"
     ]
    }
   ],
   "source": [
    "print('L_max = ',L_max)\n",
    "\n",
    "print('Our Network:')\n",
    "print('L_net =',n_edges)\n",
    "\n",
    "# Solutions of 2nd degree equation described below\n",
    "m_1 = 0.5*((n_nodes+1)+(((n_nodes+1)**2-4*(n_edges+1))**(0.5)))\n",
    "m_2 = 0.5*((n_nodes+1)-(((n_nodes+1)**2-4*(n_edges+1))**(0.5)))\n",
    "print(\"m 1:\", m_1, \"m 2:\", m_2)\n",
    "\n",
    "print(\"B/A Model with m=53:\")\n",
    "ba = barabasi_albert(n=n_nodes, m=53, m0=53)\n",
    "\n",
    "L_ba = int(sum(sum(ba))/2)\n",
    "print('L_ba =',L_ba)"
   ]
  },
  {
   "cell_type": "markdown",
   "metadata": {},
   "source": [
    "Considering m0=m, after the first iteration, the Barabasi/Albert model network has m+1 nodes and m+(m-1) links. After the second one, the network has now m+2 nodes and 2m+(m-1) links. We can assume the final network with n = m+(n-m) nodes has L = m*(n-m)+(m-1) links. This last formula gives us a relation between Barbasi/Albert initial parameter m and our network's informations and by solving the following equation, we can determine the optimal parameter:\n",
    "\n",
    "m^2 - m(n+1) + L + 1 = 0\n",
    "\n",
    "Since our network has L = 163621 links and n = 3138 nodes it means the best parameters to fit our network are m_1 = 53 or m_2 = 3085 (163'557 links) to have the same number of links and nodes. We choose m=53 since choosing m_2 = 3085 doesn't make much sense as it is almost equal to n_nodes."
   ]
  },
  {
   "cell_type": "markdown",
   "metadata": {},
   "source": [
    "### Question 5\n",
    "\n",
    "Compare the number of edges in all three networks (your real network, the Erdős–Rényi network, and the Barabási-Albert netowk)."
   ]
  },
  {
   "cell_type": "code",
   "execution_count": 12,
   "metadata": {},
   "outputs": [
    {
     "name": "stdout",
     "output_type": "stream",
     "text": [
      "Our Network has: 163621 edges\n",
      "Erdos Renyi has: 163664 edges\n",
      "Barabsi Albert has: 163557 edges\n"
     ]
    }
   ],
   "source": [
    "print(\"Our Network has:\", n_edges,\"edges\")\n",
    "print(\"Erdos Renyi has:\", L_er,\"edges\")\n",
    "print(\"Barabsi Albert has:\", L_ba,\"edges\")"
   ]
  },
  {
   "cell_type": "markdown",
   "metadata": {},
   "source": [
    "Erdos-Renyi network has an average number of links equal to the number of links in our network. Nevertheless, since connections are random, the best way to find the best fitting ER graph is to tune the \"seed\" parameter. A good fit of our network is obtain with seed = 15.\n",
    "\n",
    "Barabasi-Albert network has fixed number of links depending on parameters n_nodes, m and m0. Previous evaluation of best parameter (m=53) to fit our network shows that the best fitting BA graph has 163'557 edges. Comparing with other values of parameter m gives: m=52 –> 160'523 edges, m=54 –> 166'589 edges."
   ]
  },
  {
   "cell_type": "markdown",
   "metadata": {},
   "source": [
    "### Question 6\n",
    "\n",
    "Implement a function that computes the [Kullback–Leibler (KL) divergence](https://en.wikipedia.org/wiki/Kullback%E2%80%93Leibler_divergence) between two probability distributions.\n",
    "We'll use it to compare the degree distributions of networks."
   ]
  },
  {
   "cell_type": "code",
   "execution_count": 15,
   "metadata": {},
   "outputs": [],
   "source": [
    "def kl_divergence(p, q):\n",
    "    \"\"\"Compute the KL divergence between probability distributions of degrees of two networks.\n",
    "    \n",
    "    Parameters\n",
    "    ----------\n",
    "    p: np.array\n",
    "        Probability distribution of degrees of the 1st graph.\n",
    "    q: np.array\n",
    "        Probability distribution of degrees of the 2nd graph.\n",
    "    \n",
    "    Returns\n",
    "    -------\n",
    "    kl\n",
    "        The KL divergence between the two distributions.\n",
    "    \"\"\"\n",
    "    \n",
    "    kl=0.;\n",
    "    \n",
    "    # Using definition found on Wikipedia\n",
    "    for i in range(len(p)):\n",
    "        if(p[i] and q[i]):\n",
    "            kl+=p[i]*np.log(p[i]/q[i])\n",
    "    \n",
    "    return kl"
   ]
  },
  {
   "cell_type": "markdown",
   "metadata": {},
   "source": [
    "### Question 7: \n",
    "\n",
    "Compare the degree distribution of your network to each of the two synthetic ones, in terms of KL divergence.\n",
    "\n",
    "**Hint:** Make sure you normalise your degree distributions to make them valid probability distributions.\n",
    "\n",
    "**Hint:** Make sure none of the graphs have disconnected nodes, as KL divergence will not be defined in that case. If that happens with one of the randomly generated networks, you can regenerate it and keep the seed that gives you no disconnected nodes."
   ]
  },
  {
   "cell_type": "code",
   "execution_count": 16,
   "metadata": {},
   "outputs": [
    {
     "name": "stdout",
     "output_type": "stream",
     "text": [
      "KL Divergence Erdos Renyi: 8.58530629710921\n",
      "KL Divergence Barabasi Albert: 2.9086296296632983\n"
     ]
    }
   ],
   "source": [
    "# Definition of bins width and number\n",
    "wid_bins=35\n",
    "bins=list(range(0,700,wid_bins))\n",
    "\n",
    "# Computation of random graph\n",
    "er = erdos_renyi(n_nodes, 0.0332431, 15)\n",
    "ba = barabasi_albert(n_nodes, 53, 53)\n",
    "\n",
    "# Computation of degree vector\n",
    "deg_er=np.sum(er,0)\n",
    "deg_ba=np.sum(ba,0)\n",
    "degree = np.sum(adjacency,0)\n",
    "\n",
    "# Creating weight vector to normalize degree distributions\n",
    "weights = np.ones_like(degree) / float(n_nodes)\n",
    "\n",
    "# Computation of probability density function\n",
    "deg_pdf=np.histogram(degree,bins=bins,weights=weights)\n",
    "deg_pdf_er=np.histogram(deg_er,bins=bins,weights=weights)\n",
    "deg_pdf_ba=np.histogram(deg_ba,bins=bins,weights=weights)\n",
    "\n",
    "# Set zeroes values to 1e-10 to avoid biaised results of KL divergence (undefined for zero values)\n",
    "# Since the added value (1e-10) is very small, these modifications won't influence the normalization condition (sum=1)\n",
    "deg_pdf[0][deg_pdf[0]<1e-10]=1e-10\n",
    "deg_pdf_er[0][deg_pdf_er[0]<1e-10]=1e-10\n",
    "deg_pdf_ba[0][deg_pdf_ba[0]<1e-10]=1e-10\n",
    "\n",
    "# Computation of KL Divergence comparing both random graph model with our network\n",
    "print(\"KL Divergence Erdos Renyi:\", kl_divergence(deg_pdf[0],deg_pdf_er[0]))\n",
    "print(\"KL Divergence Barabasi Albert:\", kl_divergence(deg_pdf[0],deg_pdf_ba[0]))"
   ]
  },
  {
   "cell_type": "markdown",
   "metadata": {},
   "source": [
    "KL divergence comparison shows that our network PDF is closer to the Barabasi Albert model than to Erdos Renyi model (KL_div is almost 3 times smaller). To improve precision of comparison, one can fit each histogram with a smooth curve and compute KL divergence between those curves."
   ]
  },
  {
   "cell_type": "markdown",
   "metadata": {},
   "source": [
    "### Question 8\n",
    "\n",
    "Plot the degree distribution historgrams for all three networks. Are they consistent with the KL divergence results? Explain."
   ]
  },
  {
   "cell_type": "code",
   "execution_count": 17,
   "metadata": {},
   "outputs": [
    {
     "data": {
      "text/plain": [
       "<BarContainer object of 19 artists>"
      ]
     },
     "execution_count": 17,
     "metadata": {},
     "output_type": "execute_result"
    },
    {
     "data": {
      "image/png": "[encoded data removed]",
      "text/plain": [
       "<Figure size 1080x288 with 3 Axes>"
      ]
     },
     "metadata": {},
     "output_type": "display_data"
    }
   ],
   "source": [
    "plt.figure(figsize=(15,4))\n",
    "plt.subplot(131)\n",
    "plt.title('Our Network')\n",
    "plt.bar(bins[:len(bins)-1], deg_pdf[0], width=30)\n",
    "plt.subplot(132)\n",
    "plt.title('Erdos Renyi (KL Div=8.585)')\n",
    "plt.bar(bins[:len(bins)-1], deg_pdf_er[0], width=30)\n",
    "plt.subplot(133)\n",
    "plt.title('Barabasi Albert (KL Div=2.913)')\n",
    "plt.bar(bins[:len(bins)-1], deg_pdf_ba[0], width=30)"
   ]
  },
  {
   "cell_type": "markdown",
   "metadata": {},
   "source": [
    "First, let's compare our degree distribution with the Erdos Renyi model. Since ER model has a very narrow and located degree distribution (only 2 bars), it's clear that KL divergence will give a quite high value due to the large amount of 0 (forced to 1e-10 in our case) in the histogram.\n",
    "\n",
    "Looking at both histogram and KL divergence, we conclude that our network is close to the Barabasi Albert model even though its degree distribution is much narrower than ours. Furthermore BA model network, unlike our graph, has very few (zero if m0=m) nodes with degree < m."
   ]
  },
  {
   "cell_type": "markdown",
   "metadata": {},
   "source": [
    "### Question 9\n",
    "\n",
    "Imagine you got equal degree distributions. Would that guarantee you got the same graph? Explain."
   ]
  },
  {
   "cell_type": "markdown",
   "metadata": {},
   "source": [
    "No it wouldn't guarantee the same graph. As seen in lecture 3 (Scale-free networks), slide 25 : we can randomize any network while preserving the degree of each node. This would result in a graph with equal degree distribution to the original but with the links connecting different nodes. Thus, equal degree distributions don't lead to same graphs."
   ]
  },
  {
   "cell_type": "markdown",
   "metadata": {},
   "source": [
    "## Part 2\n",
    "\n",
    "**You are allowed to use any additional library here (e.g., NetworkX, PyGSP, etc.).** Be careful not to include something here and use it in part 1!"
   ]
  },
  {
   "cell_type": "code",
   "execution_count": 18,
   "metadata": {},
   "outputs": [],
   "source": [
    "import networkx as nx"
   ]
  },
  {
   "cell_type": "markdown",
   "metadata": {},
   "source": [
    "### Question 10\n",
    "\n",
    "Choose a random network model that fits you network well. Explain your choice. \n",
    "\n",
    "**Hint:** Check lecture notes for different network models and their properties. Your choice should be made based on at least one property you'd expect to be similar."
   ]
  },
  {
   "cell_type": "markdown",
   "metadata": {},
   "source": [
    "At first we tried to find a random network model that had a similar degree distribution to ours. We tried a few such models as caveman, powerlaw_cluster, gaussian_random_partition, waxman, etc. However, after plotting these graphs' degree distribution and playing with their parameters, none of them had a degree distribution similar to ours. As seen in part 1, the BA model is relatively close to our network in terms of degree distribution.<br>\n",
    "We then decided to compare the graphs according to their clustering coefficient, which is another key property of a graph.\n",
    "We figured from our graph that it expressed small world properties (such as a diameter of 6 which is close to log(n_nodes)=3.6), and thus decided to use the Watts-Strogatz model."
   ]
  },
  {
   "cell_type": "markdown",
   "metadata": {},
   "source": [
    "### Question 11\n",
    "\n",
    "Explain (in short) how the chosen model works."
   ]
  },
  {
   "cell_type": "markdown",
   "metadata": {},
   "source": [
    "As seen in the lecture notes, the Watts-Strogatz model is an extension of the random network model which adds the small world component. It starts from a ring and then rewires it with probability p."
   ]
  },
  {
   "cell_type": "markdown",
   "metadata": {},
   "source": [
    "### Question 12\n",
    "\n",
    "Create a random graph from that model, such that the number of nodes is the same as in your graph."
   ]
  },
  {
   "cell_type": "code",
   "execution_count": 19,
   "metadata": {},
   "outputs": [
    {
     "name": "stdout",
     "output_type": "stream",
     "text": [
      "5.925629007845353\n"
     ]
    }
   ],
   "source": [
    "# We first measure the \"small-world-ness\" of our network using the sigma measure proposed in\n",
    "# \"Network ‘Small-World-Ness’: A Quantitative Method for Determining Canonical Network Equivalence\"\n",
    "# by M. D. Humphries and K. Gurney, this is computed using the Networkx library\n",
    "\n",
    "# This measure is defined in comparison to a random network (Erdos-Renyi)\n",
    "\n",
    "G_erdos = nx.erdos_renyi_graph(n_nodes,0.033)\n",
    "L_erdos = nx.algorithms.shortest_paths.generic.average_shortest_path_length(G_erdos)\n",
    "C_erdos = nx.algorithms.cluster.average_clustering(G_erdos)\n",
    "\n",
    "# For our graph :\n",
    "\n",
    "# Converting our adjacency matrix into a NetworkX graph\n",
    "G_our_graph= nx.from_numpy_matrix(np.asmatrix(adjacency))\n",
    "\n",
    "L_our_graph=nx.algorithms.shortest_paths.generic.average_shortest_path_length(G_our_graph)\n",
    "C_our_graph=nx.algorithms.cluster.average_clustering(G_our_graph)\n",
    "\n",
    "# This gives :\n",
    "\n",
    "sigma=(C_our_graph/C_erdos)/(L_our_graph/L_erdos)\n",
    "print(sigma)\n",
    "\n",
    "# Sigma being greater than 1, our graph can be considered as small world\n"
   ]
  },
  {
   "cell_type": "code",
   "execution_count": 20,
   "metadata": {},
   "outputs": [],
   "source": [
    "# Generating a connected Watts-Strogatz graph\n",
    "G_watts=nx.connected_watts_strogatz_graph(n_nodes, 15, 0.3, tries=100)"
   ]
  },
  {
   "cell_type": "markdown",
   "metadata": {},
   "source": [
    "### Question 13\n",
    "\n",
    "Check the properties you expected to be similar, and compare to your network."
   ]
  },
  {
   "cell_type": "code",
   "execution_count": 21,
   "metadata": {},
   "outputs": [
    {
     "name": "stdout",
     "output_type": "stream",
     "text": [
      "0.2143334404916154\n",
      "0.24143234495749522\n"
     ]
    }
   ],
   "source": [
    "# Printing the clustering coefficient of our graph and comparing with the chosen model\n",
    "\n",
    "print(C_our_graph)\n",
    "print(nx.algorithms.cluster.average_clustering(G_watts))"
   ]
  },
  {
   "cell_type": "markdown",
   "metadata": {},
   "source": [
    "Are the results what you expected? Explain."
   ]
  },
  {
   "cell_type": "markdown",
   "metadata": {},
   "source": [
    "**Your answer here.**"
   ]
  }
 ],
 "metadata": {
  "kernelspec": {
   "display_name": "Python 3",
   "language": "python",
   "name": "python3"
  },
  "language_info": {
   "codemirror_mode": {
    "name": "ipython",
    "version": 3
   },
   "file_extension": ".py",
   "mimetype": "text/x-python",
   "name": "python",
   "nbconvert_exporter": "python",
   "pygments_lexer": "ipython3",
   "version": "3.7.0"
  }
 },
 "nbformat": 4,
 "nbformat_minor": 2
}
