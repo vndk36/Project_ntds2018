{
 "cells": [
  {
   "cell_type": "markdown",
   "metadata": {},
   "source": [
    "# [NTDS'18] tutorial 5: sparse matrices in scipy\n",
    "[ntds'18]: https://github.com/mdeff/ntds_2018\n",
    "\n",
    "[Eda Bayram](http://lts4.epfl.ch/bayram), [EPFL LTS4](http://lts4.epfl.ch)"
   ]
  },
  {
   "cell_type": "markdown",
   "metadata": {},
   "source": [
    "## Ojective\n",
    "\n",
    "This is a short tutorial on the `scipy.sparse` module. We will talk about:\n",
    "\n",
    "1. What is sparsity?\n",
    "2. Sparse matrix storage schemes\n",
    "3. Linear operations on sparse matrices"
   ]
  },
  {
   "cell_type": "code",
   "execution_count": 3,
   "metadata": {},
   "outputs": [],
   "source": [
    "%matplotlib inline"
   ]
  },
  {
   "cell_type": "code",
   "execution_count": 4,
   "metadata": {},
   "outputs": [],
   "source": [
    "import numpy as np\n",
    "import matplotlib.pyplot as plt\n",
    "from scipy import sparse\n",
    "import scipy.sparse.linalg\n",
    "from scipy import linalg\n",
    "import pandas as pd"
   ]
  },
  {
   "cell_type": "markdown",
   "metadata": {},
   "source": [
    "## 1. Sparsity"
   ]
  },
  {
   "cell_type": "markdown",
   "metadata": {},
   "source": [
    "Why do we need data structures for sparse matrices?\n",
    "\n",
    "* Less memory usage\n",
    "* More efficiency computations\n",
    "\n",
    "Most real-world graphs / networks are sparse!"
   ]
  },
  {
   "cell_type": "markdown",
   "metadata": {},
   "source": [
    "Let us create a random sparse matrix and analyze the sparsity."
   ]
  },
  {
   "cell_type": "code",
   "execution_count": 3,
   "metadata": {},
   "outputs": [
    {
     "name": "stdout",
     "output_type": "stream",
     "text": [
      "Number of non-zeros: 625, density: 0.01\n"
     ]
    }
   ],
   "source": [
    "N = 250 \n",
    "dummy = sparse.random(N, N, density=0.01)\n",
    "density = dummy.nnz / N**2\n",
    "print('Number of non-zeros: {}, density: {}'.format(dummy.nnz, density))"
   ]
  },
  {
   "cell_type": "code",
   "execution_count": 4,
   "metadata": {},
   "outputs": [
    {
     "data": {
      "image/png": "[encoded data removed]",
      "text/plain": [
       "<Figure size 432x288 with 1 Axes>"
      ]
     },
     "metadata": {},
     "output_type": "display_data"
    }
   ],
   "source": [
    "plt.spy(dummy, markersize=1);"
   ]
  },
  {
   "cell_type": "code",
   "execution_count": 5,
   "metadata": {},
   "outputs": [
    {
     "name": "stdout",
     "output_type": "stream",
     "text": [
      "  (137, 45)\t0.37476439999962585\n",
      "  (114, 239)\t0.5458842085613271\n",
      "  (212, 65)\t0.5394240749777819\n",
      "  (211, 217)\t0.9329642500529739\n",
      "  (109, 37)\t0.7608000788221303\n",
      "  (154, 91)\t0.7121374971932707\n",
      "  (191, 118)\t0.8963960417751355\n",
      "  (123, 132)\t0.6544260385363065\n",
      "  (52, 168)\t0.9556976601319064\n",
      "  (202, 145)\t0.19616554458688695\n",
      "  (225, 136)\t0.08840271019283219\n",
      "  (73, 241)\t0.7882988911506592\n",
      "  (238, 245)\t0.9844296582835644\n",
      "  (59, 88)\t0.5768424389401322\n",
      "  (7, 175)\t0.15698090361690464\n",
      "  (101, 150)\t0.4902884072789109\n",
      "  (90, 116)\t0.13666066535654686\n",
      "  (162, 142)\t0.8065264408685503\n",
      "  (37, 235)\t0.5855925785064916\n",
      "  (83, 2)\t0.07263144636846697\n",
      "  (167, 26)\t0.6353935162680638\n",
      "  (189, 126)\t0.2066563478090504\n",
      "  (150, 199)\t0.8765190584388179\n",
      "  (77, 48)\t0.2835312129335126\n",
      "  (179, 69)\t0.09548107791652005\n",
      "  :\t:\n",
      "  (136, 156)\t0.42055404924090545\n",
      "  (94, 118)\t0.5970981677776591\n",
      "  (116, 61)\t0.6420807999845534\n",
      "  (95, 138)\t0.5401980891106205\n",
      "  (140, 38)\t0.4028981222323277\n",
      "  (103, 186)\t0.9676320640946018\n",
      "  (96, 182)\t0.8742893242771576\n",
      "  (53, 182)\t0.3565855067552962\n",
      "  (239, 36)\t0.6105629809510065\n",
      "  (249, 116)\t0.4643499938856781\n",
      "  (151, 83)\t0.8206959460325953\n",
      "  (36, 180)\t0.5467831597830389\n",
      "  (55, 172)\t0.5786929983916489\n",
      "  (80, 214)\t0.3284028451949723\n",
      "  (238, 195)\t0.8975747339628874\n",
      "  (126, 198)\t0.1525766649695529\n",
      "  (132, 239)\t0.46907243488786465\n",
      "  (132, 122)\t0.6056533533012871\n",
      "  (174, 227)\t0.03882622552447723\n",
      "  (218, 237)\t0.3897637678467153\n",
      "  (246, 96)\t0.569497774150786\n",
      "  (1, 175)\t0.5439264945153297\n",
      "  (169, 47)\t0.1187856376246772\n",
      "  (164, 165)\t0.4723661685949514\n",
      "  (72, 234)\t0.08892353774491979\n"
     ]
    }
   ],
   "source": [
    "print(dummy)\n",
    "# shows the tuples of non zero elements"
   ]
  },
  {
   "cell_type": "markdown",
   "metadata": {},
   "source": [
    "Let us convert the sparse array to some dense formats."
   ]
  },
  {
   "cell_type": "code",
   "execution_count": 6,
   "metadata": {},
   "outputs": [
    {
     "data": {
      "text/plain": [
       "numpy.ndarray"
      ]
     },
     "execution_count": 6,
     "metadata": {},
     "output_type": "execute_result"
    }
   ],
   "source": [
    "type(dummy.A)"
   ]
  },
  {
   "cell_type": "code",
   "execution_count": 7,
   "metadata": {},
   "outputs": [
    {
     "data": {
      "text/plain": [
       "numpy.ndarray"
      ]
     },
     "execution_count": 7,
     "metadata": {},
     "output_type": "execute_result"
    }
   ],
   "source": [
    "type(dummy.toarray())\n",
    "#same result"
   ]
  },
  {
   "cell_type": "code",
   "execution_count": 8,
   "metadata": {},
   "outputs": [
    {
     "data": {
      "text/plain": [
       "numpy.matrixlib.defmatrix.matrix"
      ]
     },
     "execution_count": 8,
     "metadata": {},
     "output_type": "execute_result"
    }
   ],
   "source": [
    "type(dummy.todense())\n",
    "# gives a numpx matrix"
   ]
  },
  {
   "cell_type": "markdown",
   "metadata": {},
   "source": [
    "## 2. Sparse matrix storage schemes\n",
    "\n",
    "The `scipy.sparse` module provides several formats to store sparse matrices.\n",
    "Each format has pros and cons, and some are better for some tasks, such as matrix construction, indexing, or linear operations."
   ]
  },
  {
   "cell_type": "markdown",
   "metadata": {},
   "source": [
    "### 2.1 List of lists format (LIL)\n",
    "\n",
    "* Supports indexing, which cannot be done with other sparse matrix formats.\n",
    "* Changing sparsity structure is efficient, e.g., reading a sparse matrix from a text file."
   ]
  },
  {
   "cell_type": "code",
   "execution_count": 5,
   "metadata": {},
   "outputs": [],
   "source": [
    "# Create an empty lil matrix.\n",
    "mtx = sparse.lil_matrix((4, 5))\n",
    "# this format, unlike the one above, supports indexing"
   ]
  },
  {
   "cell_type": "code",
   "execution_count": 6,
   "metadata": {},
   "outputs": [],
   "source": [
    "# Assign some of the indices, i.e., changing the sparsity.\n",
    "mtx[:2, [1, 3]] = np.array([[1, 2], [3, 4]])"
   ]
  },
  {
   "cell_type": "code",
   "execution_count": 7,
   "metadata": {},
   "outputs": [
    {
     "data": {
      "text/plain": [
       "scipy.sparse.lil.lil_matrix"
      ]
     },
     "execution_count": 7,
     "metadata": {},
     "output_type": "execute_result"
    }
   ],
   "source": [
    "mtx.toarray()\n",
    "type(mtx)"
   ]
  },
  {
   "cell_type": "code",
   "execution_count": 12,
   "metadata": {},
   "outputs": [
    {
     "data": {
      "text/plain": [
       "array([[0., 1., 0., 2., 0.],\n",
       "       [0., 3., 0., 4., 0.]])"
      ]
     },
     "execution_count": 12,
     "metadata": {},
     "output_type": "execute_result"
    }
   ],
   "source": [
    "# Read some of the indices.\n",
    "mtx[:2].toarray()\n",
    "# first 2 rows"
   ]
  },
  {
   "cell_type": "markdown",
   "metadata": {},
   "source": [
    "### 2.2 Coordinate format (COO)\n",
    "\n",
    "A COO matrix is constructed from three lists:\n",
    "* a list of column indices,\n",
    "* a list of row indices,\n",
    "* a list of values,\n",
    "where each element of those lists represents a non-zero element in the resulting sparse matrix.\n",
    "\n",
    "This format is well-adapted to build a sparse adjacency matrix from an edge list."
   ]
  },
  {
   "cell_type": "code",
   "execution_count": 13,
   "metadata": {},
   "outputs": [],
   "source": [
    "row = np.array([0, 3, 1, 0])  # row coordinates of non zero elements\n",
    "col = np.array([0, 3, 1, 2])  # column coordinates of non zero elements\n",
    "data = np.array([4, 5, 7, 9])  # values to put in given coordinates\n",
    "\n",
    "mtx = sparse.coo_matrix((data, (row, col)), shape=(4, 4))\n",
    "\n",
    "# this format is fast for element-wise operations but doesn't allow to reach indices individually"
   ]
  },
  {
   "cell_type": "code",
   "execution_count": 14,
   "metadata": {},
   "outputs": [
    {
     "data": {
      "text/plain": [
       "array([[4, 0, 9, 0],\n",
       "       [0, 7, 0, 0],\n",
       "       [0, 0, 0, 0],\n",
       "       [0, 0, 0, 5]])"
      ]
     },
     "execution_count": 14,
     "metadata": {},
     "output_type": "execute_result"
    }
   ],
   "source": [
    "mtx.toarray() # convert to other types"
   ]
  },
  {
   "cell_type": "markdown",
   "metadata": {},
   "source": [
    "Advantages:\n",
    "* Fast element-wise operations.\n",
    "* Fast conversion to other sparse formats."
   ]
  },
  {
   "cell_type": "code",
   "execution_count": 15,
   "metadata": {},
   "outputs": [
    {
     "data": {
      "text/plain": [
       "array([[2.        , 0.        , 3.        , 0.        ],\n",
       "       [0.        , 2.64575131, 0.        , 0.        ],\n",
       "       [0.        , 0.        , 0.        , 0.        ],\n",
       "       [0.        , 0.        , 0.        , 2.23606798]])"
      ]
     },
     "execution_count": 15,
     "metadata": {},
     "output_type": "execute_result"
    }
   ],
   "source": [
    "# Element-wise power.\n",
    "mtx.power(0.5).toarray()"
   ]
  },
  {
   "cell_type": "code",
   "execution_count": 9,
   "metadata": {},
   "outputs": [],
   "source": [
    "mtx_csr = mtx.tocsr()"
   ]
  },
  {
   "cell_type": "markdown",
   "metadata": {},
   "source": [
    "Disadvantages:\n",
    "* Indexing is not possible. (Use LIL instead!)\n",
    "* Slow at arithmetic operations. (Use CSR, CSC instead!)"
   ]
  },
  {
   "cell_type": "markdown",
   "metadata": {},
   "source": [
    "**Exercise:** Can you construct the sparse adjacency matrix in `COO` and `LIL` formats for a network given by the following edge list ?"
   ]
  },
  {
   "cell_type": "code",
   "execution_count": 17,
   "metadata": {},
   "outputs": [
    {
     "data": {
      "text/html": [
       "<div>\n",
       "<style scoped>\n",
       "    .dataframe tbody tr th:only-of-type {\n",
       "        vertical-align: middle;\n",
       "    }\n",
       "\n",
       "    .dataframe tbody tr th {\n",
       "        vertical-align: top;\n",
       "    }\n",
       "\n",
       "    .dataframe thead th {\n",
       "        text-align: right;\n",
       "    }\n",
       "</style>\n",
       "<table border=\"1\" class=\"dataframe\">\n",
       "  <thead>\n",
       "    <tr style=\"text-align: right;\">\n",
       "      <th></th>\n",
       "      <th>node_1</th>\n",
       "      <th>node_2</th>\n",
       "      <th>weights</th>\n",
       "    </tr>\n",
       "  </thead>\n",
       "  <tbody>\n",
       "    <tr>\n",
       "      <th>0</th>\n",
       "      <td>1</td>\n",
       "      <td>3</td>\n",
       "      <td>0.6</td>\n",
       "    </tr>\n",
       "    <tr>\n",
       "      <th>1</th>\n",
       "      <td>1</td>\n",
       "      <td>4</td>\n",
       "      <td>0.5</td>\n",
       "    </tr>\n",
       "    <tr>\n",
       "      <th>2</th>\n",
       "      <td>1</td>\n",
       "      <td>5</td>\n",
       "      <td>0.7</td>\n",
       "    </tr>\n",
       "    <tr>\n",
       "      <th>3</th>\n",
       "      <td>2</td>\n",
       "      <td>6</td>\n",
       "      <td>0.1</td>\n",
       "    </tr>\n",
       "    <tr>\n",
       "      <th>4</th>\n",
       "      <td>3</td>\n",
       "      <td>4</td>\n",
       "      <td>0.6</td>\n",
       "    </tr>\n",
       "    <tr>\n",
       "      <th>5</th>\n",
       "      <td>3</td>\n",
       "      <td>5</td>\n",
       "      <td>0.1</td>\n",
       "    </tr>\n",
       "    <tr>\n",
       "      <th>6</th>\n",
       "      <td>3</td>\n",
       "      <td>6</td>\n",
       "      <td>0.9</td>\n",
       "    </tr>\n",
       "  </tbody>\n",
       "</table>\n",
       "</div>"
      ],
      "text/plain": [
       "   node_1  node_2  weights\n",
       "0       1       3      0.6\n",
       "1       1       4      0.5\n",
       "2       1       5      0.7\n",
       "3       2       6      0.1\n",
       "4       3       4      0.6\n",
       "5       3       5      0.1\n",
       "6       3       6      0.9"
      ]
     },
     "execution_count": 17,
     "metadata": {},
     "output_type": "execute_result"
    }
   ],
   "source": [
    "edges = pd.DataFrame(\n",
    "    {\"node_1\": [1,1,1,2,3,3,3],\n",
    "     \"node_2\": [3,4,5,6,4,5,6],\n",
    "     \"weights\": [0.6,0.5,0.7,0.1,0.6,0.1,0.9]\n",
    "    })\n",
    "edges # edge list"
   ]
  },
  {
   "cell_type": "markdown",
   "metadata": {},
   "source": [
    "### 2.3 Compressed sparse row & column formats (CSR & CSC)"
   ]
  },
  {
   "cell_type": "code",
   "execution_count": 10,
   "metadata": {},
   "outputs": [
    {
     "name": "stdout",
     "output_type": "stream",
     "text": [
      "[1. 2. 3. 4.]\n"
     ]
    }
   ],
   "source": [
    "# Get the data array\n",
    "print(mtx_csr.data)"
   ]
  },
  {
   "cell_type": "markdown",
   "metadata": {},
   "source": [
    "`CSR` is row oriented:\n",
    "* efficient row slicing\n",
    "* fast matrix vector products, the right multiplication `CSR * v`"
   ]
  },
  {
   "cell_type": "code",
   "execution_count": 19,
   "metadata": {},
   "outputs": [
    {
     "data": {
      "text/plain": [
       "array([0, 2, 1, 3], dtype=int32)"
      ]
     },
     "execution_count": 19,
     "metadata": {},
     "output_type": "execute_result"
    }
   ],
   "source": [
    "# Get array of column indices for CSR.\n",
    "mtx_csr.indices"
   ]
  },
  {
   "cell_type": "code",
   "execution_count": 20,
   "metadata": {},
   "outputs": [
    {
     "data": {
      "text/plain": [
       "array([13,  7,  0,  5], dtype=int32)"
      ]
     },
     "execution_count": 20,
     "metadata": {},
     "output_type": "execute_result"
    }
   ],
   "source": [
    "# Matrix-vector product from the right.\n",
    "v = np.array([1, 1, 1, 1])\n",
    "mtx_csr.dot(v)"
   ]
  },
  {
   "cell_type": "code",
   "execution_count": 39,
   "metadata": {},
   "outputs": [],
   "source": [
    "A= sparse.random(10000,10000, density=0.01)"
   ]
  },
  {
   "cell_type": "code",
   "execution_count": 40,
   "metadata": {},
   "outputs": [
    {
     "data": {
      "text/plain": [
       "scipy.sparse.coo.coo_matrix"
      ]
     },
     "execution_count": 40,
     "metadata": {},
     "output_type": "execute_result"
    }
   ],
   "source": [
    "type(A)"
   ]
  },
  {
   "cell_type": "code",
   "execution_count": 41,
   "metadata": {},
   "outputs": [],
   "source": [
    "A_csr=A.tocsr()"
   ]
  },
  {
   "cell_type": "code",
   "execution_count": 45,
   "metadata": {},
   "outputs": [],
   "source": [
    "b = np.random.rand(10000)"
   ]
  },
  {
   "cell_type": "code",
   "execution_count": 46,
   "metadata": {},
   "outputs": [
    {
     "name": "stdout",
     "output_type": "stream",
     "text": [
      "3.13 ms ± 216 µs per loop (mean ± std. dev. of 7 runs, 100 loops each)\n"
     ]
    }
   ],
   "source": [
    "%timeit A_csr.dot(b)"
   ]
  },
  {
   "cell_type": "code",
   "execution_count": 47,
   "metadata": {},
   "outputs": [
    {
     "name": "stdout",
     "output_type": "stream",
     "text": [
      "4.37 ms ± 354 µs per loop (mean ± std. dev. of 7 runs, 100 loops each)\n"
     ]
    }
   ],
   "source": [
    "%timeit A.dot(b)"
   ]
  },
  {
   "cell_type": "code",
   "execution_count": 48,
   "metadata": {},
   "outputs": [
    {
     "name": "stdout",
     "output_type": "stream",
     "text": [
      "44.4 ms ± 759 µs per loop (mean ± std. dev. of 7 runs, 10 loops each)\n"
     ]
    }
   ],
   "source": [
    "A_np=A.toarray()\n",
    "%timeit np.dot(A_np,b) #takes much longer for large matrices"
   ]
  },
  {
   "cell_type": "markdown",
   "metadata": {},
   "source": [
    "`CSC` is column oriented:\n",
    "* efficient column slicing\n",
    "* fast matrix vector products, the left multiplication `v * CSC`"
   ]
  },
  {
   "cell_type": "code",
   "execution_count": 21,
   "metadata": {},
   "outputs": [
    {
     "data": {
      "text/plain": [
       "array([0, 1, 0, 3], dtype=int32)"
      ]
     },
     "execution_count": 21,
     "metadata": {},
     "output_type": "execute_result"
    }
   ],
   "source": [
    "mtx_csc = mtx.tocsc()\n",
    "# Get array of row indices for CSC\n",
    "mtx_csc.indices"
   ]
  },
  {
   "cell_type": "code",
   "execution_count": 22,
   "metadata": {},
   "outputs": [
    {
     "data": {
      "text/plain": [
       "array([4, 7, 9, 5], dtype=int32)"
      ]
     },
     "execution_count": 22,
     "metadata": {},
     "output_type": "execute_result"
    }
   ],
   "source": [
    "# vectro-matrix product\n",
    "v * mtx_csc"
   ]
  },
  {
   "cell_type": "markdown",
   "metadata": {},
   "source": [
    "Efficient arithmetic operations `CSC + CSC`, `CSR * CSR`, etc."
   ]
  },
  {
   "cell_type": "code",
   "execution_count": 23,
   "metadata": {},
   "outputs": [
    {
     "data": {
      "text/plain": [
       "array([[16,  0, 36,  0],\n",
       "       [ 0, 49,  0,  0],\n",
       "       [ 0,  0,  0,  0],\n",
       "       [ 0,  0,  0, 25]], dtype=int32)"
      ]
     },
     "execution_count": 23,
     "metadata": {},
     "output_type": "execute_result"
    }
   ],
   "source": [
    "# Matrix-Matrix product (* is elementwise product on Numpy!, matrix product on Scipy)\n",
    "prod = mtx_csc * mtx_csc\n",
    "prod.toarray()"
   ]
  },
  {
   "cell_type": "code",
   "execution_count": 24,
   "metadata": {},
   "outputs": [
    {
     "data": {
      "text/plain": [
       "array([[16,  0, 36,  0],\n",
       "       [ 0, 49,  0,  0],\n",
       "       [ 0,  0,  0,  0],\n",
       "       [ 0,  0,  0, 25]], dtype=int32)"
      ]
     },
     "execution_count": 24,
     "metadata": {},
     "output_type": "execute_result"
    }
   ],
   "source": [
    "prod = mtx_csr @ mtx_csr # @ is matrix product both on numpy and scipy!\n",
    "prod.toarray()"
   ]
  },
  {
   "cell_type": "markdown",
   "metadata": {},
   "source": [
    "You can read more about sparse matrix storage schemes [on Wikipedia](https://en.wikipedia.org/wiki/Sparse_matrix#Storing_a_sparse_matrix)."
   ]
  },
  {
   "cell_type": "markdown",
   "metadata": {},
   "source": [
    "## 3. Linear agebra on sparse matrices"
   ]
  },
  {
   "cell_type": "markdown",
   "metadata": {},
   "source": [
    "### 3.1 Some basic operations"
   ]
  },
  {
   "cell_type": "code",
   "execution_count": 25,
   "metadata": {},
   "outputs": [
    {
     "data": {
      "text/plain": [
       "array([[1, 0, 3, 0],\n",
       "       [1, 2, 0, 4],\n",
       "       [0, 2, 3, 0],\n",
       "       [0, 0, 3, 4]])"
      ]
     },
     "execution_count": 25,
     "metadata": {},
     "output_type": "execute_result"
    }
   ],
   "source": [
    "# sparse matrix from diagonals\n",
    "A = sparse.spdiags(np.array([[1,2,3,4], [1,2,3,4], [1,2,3,4]]), [-1,0,2], 4, 4)\n",
    "A.toarray()"
   ]
  },
  {
   "cell_type": "markdown",
   "metadata": {},
   "source": [
    "**Inversion of a sparse matrix**"
   ]
  },
  {
   "cell_type": "code",
   "execution_count": 26,
   "metadata": {},
   "outputs": [
    {
     "data": {
      "text/plain": [
       "array([[ 0.66666667,  0.33333333, -0.33333333, -0.33333333],\n",
       "       [-0.16666667,  0.16666667,  0.33333333, -0.16666667],\n",
       "       [ 0.11111111, -0.11111111,  0.11111111,  0.11111111],\n",
       "       [-0.08333333,  0.08333333, -0.08333333,  0.16666667]])"
      ]
     },
     "execution_count": 26,
     "metadata": {},
     "output_type": "execute_result"
    }
   ],
   "source": [
    "A = A.tocsc()  # Convert it to CSC matrix for efficiency.\n",
    "Ainv = sparse.linalg.inv(A)\n",
    "Ainv.toarray()"
   ]
  },
  {
   "cell_type": "code",
   "execution_count": 27,
   "metadata": {},
   "outputs": [
    {
     "data": {
      "text/plain": [
       "8.306623862918075"
      ]
     },
     "execution_count": 27,
     "metadata": {},
     "output_type": "execute_result"
    }
   ],
   "source": [
    "sparse.linalg.norm(A)  # Default to Frobenius norm."
   ]
  },
  {
   "cell_type": "markdown",
   "metadata": {},
   "source": [
    "**Solve $A x = b$**"
   ]
  },
  {
   "cell_type": "code",
   "execution_count": 28,
   "metadata": {},
   "outputs": [
    {
     "data": {
      "text/plain": [
       "array([0.33333333, 0.16666667, 0.22222222, 0.08333333])"
      ]
     },
     "execution_count": 28,
     "metadata": {},
     "output_type": "execute_result"
    }
   ],
   "source": [
    "b = np.array([1, 1, 1, 1])\n",
    "x = sparse.linalg.spsolve(A, b)\n",
    "x"
   ]
  },
  {
   "cell_type": "markdown",
   "metadata": {},
   "source": [
    "### 3.2 Eigenvalue decomposition"
   ]
  },
  {
   "cell_type": "markdown",
   "metadata": {},
   "source": [
    "For the full eigendecomposition of an array, you can use the functions provided by Numpy:\n",
    "* `numpy.linalg.eig`\n",
    "* `numpy.linalg.eigvals`\n",
    "* `numpy.linalg.eigh`\n",
    "* `numpy.linalg.eighvals`\n",
    "\n",
    "Scipy presents more functionality (read [here](https://www.scipy.org/scipylib/faq.html#why-both-numpy-linalg-and-scipy-linalg-what-s-the-difference)) such as solving generalized eigenvalue problem, you can use the functions from Scipy:\n",
    "* `scipy.linalg.eig`\n",
    "* `scipy.linalg.eigvals`\n",
    "* `scipy.linalg.eigh`\n",
    "* `scipy.linalg.eighvals`"
   ]
  },
  {
   "cell_type": "code",
   "execution_count": 29,
   "metadata": {},
   "outputs": [
    {
     "data": {
      "text/plain": [
       "array([1.16822694+2.48096949j, 1.16822694-2.48096949j,\n",
       "       1.57169108+0.j        , 6.09185505+0.j        ])"
      ]
     },
     "execution_count": 29,
     "metadata": {},
     "output_type": "execute_result"
    }
   ],
   "source": [
    "linalg.eigvals(A.toarray())"
   ]
  },
  {
   "cell_type": "markdown",
   "metadata": {},
   "source": [
    "Decomposition of an Hermitian matrix:"
   ]
  },
  {
   "cell_type": "code",
   "execution_count": 30,
   "metadata": {},
   "outputs": [
    {
     "data": {
      "text/plain": [
       "array([0.17157288, 5.82842712])"
      ]
     },
     "execution_count": 30,
     "metadata": {},
     "output_type": "execute_result"
    }
   ],
   "source": [
    "A = np.array([[1, -2j], [2j, 5]])\n",
    "linalg.eigvalsh(A)"
   ]
  },
  {
   "cell_type": "markdown",
   "metadata": {},
   "source": [
    "However, for **quickly** finding a few eigenvalues of a large sparse matrix, you should use the corresponding functions from the [sparse module](https://docs.scipy.org/doc/scipy/reference/tutorial/arpack.html):\n",
    "\n",
    "* `scipy.sparse.eigs`\n",
    "* `scipy.sparse.eigsh`"
   ]
  },
  {
   "cell_type": "code",
   "execution_count": 50,
   "metadata": {},
   "outputs": [
    {
     "data": {
      "text/plain": [
       "array([-9.93231227e-18+1.4084801e-17j, -9.93231227e-18-1.4084801e-17j,\n",
       "        1.39070451e-17+0.0000000e+00j, -5.76000616e-18+0.0000000e+00j,\n",
       "        3.47337885e-18+0.0000000e+00j])"
      ]
     },
     "execution_count": 50,
     "metadata": {},
     "output_type": "execute_result"
    }
   ],
   "source": [
    "dummy = sparse.random(30, 30, density=0.01)\n",
    "evals, evecs = sparse.linalg.eigs(dummy, k=5, which='SM')\n",
    "evals"
   ]
  },
  {
   "cell_type": "code",
   "execution_count": null,
   "metadata": {},
   "outputs": [],
   "source": []
  }
 ],
 "metadata": {
  "kernelspec": {
   "display_name": "Python 3",
   "language": "python",
   "name": "python3"
  },
  "language_info": {
   "codemirror_mode": {
    "name": "ipython",
    "version": 3
   },
   "file_extension": ".py",
   "mimetype": "text/x-python",
   "name": "python",
   "nbconvert_exporter": "python",
   "pygments_lexer": "ipython3",
   "version": "3.7.0"
  }
 },
 "nbformat": 4,
 "nbformat_minor": 2
}
